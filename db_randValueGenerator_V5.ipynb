{
 "cells": [
  {
   "cell_type": "markdown",
   "metadata": {},
   "source": [
    "### Nutzung der Helper-Klasse"
   ]
  },
  {
   "cell_type": "code",
   "execution_count": 1,
   "metadata": {},
   "outputs": [],
   "source": [
    "from db_communication import db_communication\n",
    "import pandas as pd\n",
    "import numpy as np"
   ]
  },
  {
   "cell_type": "code",
   "execution_count": 2,
   "metadata": {},
   "outputs": [
    {
     "name": "stdout",
     "output_type": "stream",
     "text": [
      "Successfully connected.\n"
     ]
    }
   ],
   "source": [
    "config = {\n",
    "    'user': 'root',\n",
    "    'password': 'FDS-apm1',\n",
    "    'host': 'min-ifm-xdm.ad.fh-bielefeld.de',\n",
    "    'port': '3306',\n",
    "    'database': 'NeueDB' \n",
    "}\n",
    "my_db = db_communication(config)"
   ]
  },
  {
   "cell_type": "code",
   "execution_count": 3,
   "metadata": {
    "scrolled": true
   },
   "outputs": [
    {
     "data": {
      "text/plain": [
       "['Auftrag',\n",
       " 'Einzelteil',\n",
       " 'Konfiguration',\n",
       " 'Kunde',\n",
       " 'Merkmalcluster',\n",
       " 'Merkmale',\n",
       " 'Stuecklistenteil']"
      ]
     },
     "execution_count": 3,
     "metadata": {},
     "output_type": "execute_result"
    }
   ],
   "source": [
    "tables = my_db.read_tables()\n",
    "tables = [tables[i][0] for i in range(len(tables))]\n",
    "tables"
   ]
  },
  {
   "cell_type": "markdown",
   "metadata": {},
   "source": [
    "### Funktionen zur Ermittlung zufälliger Attribute"
   ]
  },
  {
   "cell_type": "code",
   "execution_count": 4,
   "metadata": {},
   "outputs": [],
   "source": [
    "import random\n",
    "def randomElementInList(values):\n",
    "    \"\"\"\n",
    "    Auswahl eines zufälligen Elements aus dem Wertebereich values\n",
    "    Bsp.: ['Basic','Holland','BMX','Klassisch','Einrad'] ->  return = 'BMX'\n",
    "    \"\"\"\n",
    "    return random.choice(values)"
   ]
  },
  {
   "cell_type": "code",
   "execution_count": 5,
   "metadata": {},
   "outputs": [
    {
     "data": {
      "text/plain": [
       "'BMX'"
      ]
     },
     "execution_count": 5,
     "metadata": {},
     "output_type": "execute_result"
    }
   ],
   "source": [
    "randomElementInList(['Basic','Holland','BMX','Klassisch','Einrad'])"
   ]
  },
  {
   "cell_type": "code",
   "execution_count": 6,
   "metadata": {},
   "outputs": [],
   "source": [
    "def randomNumber(start,stop=None,step=1):\n",
    "    \"\"\"\n",
    "    Generierung einer zufälligen Zahl nach random.randrange():\n",
    "    Choose a random item from range(start, stop[, step])\n",
    "    \"\"\"\n",
    "    if start != stop:\n",
    "        return random.randrange(start=start,stop=stop,step=step)\n",
    "    else:\n",
    "        return start"
   ]
  },
  {
   "cell_type": "code",
   "execution_count": 7,
   "metadata": {},
   "outputs": [
    {
     "data": {
      "text/plain": [
       "7"
      ]
     },
     "execution_count": 7,
     "metadata": {},
     "output_type": "execute_result"
    }
   ],
   "source": [
    "randomNumber(1,20,1)"
   ]
  },
  {
   "cell_type": "code",
   "execution_count": 8,
   "metadata": {},
   "outputs": [],
   "source": [
    "import time \n",
    "import datetime\n",
    "def randomDate(start, end=datetime.datetime.now().strftime(\"%d.%m.%Y\"), format=\"%d.%m.%Y\", prop=random.random()):\n",
    "    \"\"\"Get a time at a proportion of a range of two formatted times.\n",
    "\n",
    "    start and end should be strings specifying times formated in the\n",
    "    given format (strftime-style), giving an interval [start, end].\n",
    "    prop specifies how a proportion of the interval to be taken after\n",
    "    start.  The returned time will be in the specified format.\n",
    "    \"\"\"\n",
    "\n",
    "    stime = time.mktime(time.strptime(start, format))\n",
    "    etime = time.mktime(time.strptime(end, format))\n",
    "\n",
    "    ptime = stime + prop * (etime - stime)\n",
    "\n",
    "    return time.strftime(format, time.localtime(ptime))"
   ]
  },
  {
   "cell_type": "code",
   "execution_count": 9,
   "metadata": {},
   "outputs": [
    {
     "data": {
      "text/plain": [
       "'12.10.2021'"
      ]
     },
     "execution_count": 9,
     "metadata": {},
     "output_type": "execute_result"
    }
   ],
   "source": [
    "randomDate(\"12.10.2020\",\"12.10.2022\",\"%d.%m.%Y\",random.random())"
   ]
  },
  {
   "cell_type": "code",
   "execution_count": 10,
   "metadata": {},
   "outputs": [],
   "source": [
    "def randomName():\n",
    "    preNames = [\"Tana\",\"Francoise\",\"Emmie\",\"Stuart\",\"Cedrick\",\"Tiffani\",\"Kym\",\"Woodrow\",\"Jolene\",\"Autumn\",\"Moriah\",\"Claud\",\"Antoinette\",\n",
    "                \"Gisele\",\"Chrissy\",\"Ellena\",\"Hilton\",\"Susanne\",\"Lindy\",\"Nakesha\",\"Rebecca\",\"Lavenia\",\"Donya\",\"Claudia\",\"Dreama\",\"Alla\",\n",
    "                \"Freeman\",\"Weston\",\"Jacki\",\"Helene\"]\n",
    "    lastName = [\"Allinder\",\"Longley\",\"Dobyns\",\"Coldiron\",\"Justin\",\"Munroe\",\"Boll\",\"Clingerman\",\"Pries\",\"Santangelo\",\"Miller\",\"Bohman\",\"Meachum\",\n",
    "                \"Kamer\",\"Waits\",\"Polin\",\"Suitt\",\"Saulter\",\"Pelt\",\"Dapolito\",\"Guild\",\"Beeks\",\"Hollingshead\",\"Schissler\",\"Cardamone\",\"Sypher\",\n",
    "                \"Fannin\",\"Belizaire\",\"Burleigh\",\"Eslinger\"]\n",
    "    return randomElementInList(preNames), randomElementInList(lastName)"
   ]
  },
  {
   "cell_type": "code",
   "execution_count": 11,
   "metadata": {},
   "outputs": [
    {
     "data": {
      "text/plain": [
       "('Claudia', 'Pries')"
      ]
     },
     "execution_count": 11,
     "metadata": {},
     "output_type": "execute_result"
    }
   ],
   "source": [
    "randomName()"
   ]
  },
  {
   "cell_type": "code",
   "execution_count": 12,
   "metadata": {},
   "outputs": [],
   "source": [
    "def randomMail(preName,lastName):\n",
    "    providers = ['gmail.com','web.de','telekom.de','apple.com','fh-bielefeld.de']\n",
    "    mail = \"{0}.{1}@{2}\".format(preName.lower(),lastName.lower(),randomElementInList(providers).lower())\n",
    "    return mail"
   ]
  },
  {
   "cell_type": "code",
   "execution_count": 13,
   "metadata": {},
   "outputs": [
    {
     "data": {
      "text/plain": [
       "'ellena.dapolito@fh-bielefeld.de'"
      ]
     },
     "execution_count": 13,
     "metadata": {},
     "output_type": "execute_result"
    }
   ],
   "source": [
    "randomMail(*randomName())"
   ]
  },
  {
   "cell_type": "code",
   "execution_count": 14,
   "metadata": {},
   "outputs": [],
   "source": [
    "def randomBike(featureTableName='Merkmale',featureClusterTableName='Merkmalcluster'):\n",
    "    \"\"\"\n",
    "    Generierung eines zufälligen Fahrrad auf Basis der Inhalte aus den Tabellen:\n",
    "    - featureCluster (Bestandteile eines Fahrrads: Rahmen, Gabel, etc.)\n",
    "    - feature        (Wie diese Bestandteile umgesetzt werden: Trofeo 5, Carbon Öldruckstoßdämpfer, etc.)\n",
    "    Und Bestimmung des Gesamtpreises anhand gewählter Merkmale\n",
    "    \"\"\"\n",
    "    # get information about the parts to build a bike from DB\n",
    "    df_features = my_db.get_table(featureTableName)\n",
    "    df_featureCluster = my_db.get_table(featureClusterTableName)\n",
    "    df_featureCluster.set_index('ClusterNr',inplace=True)\n",
    "    \n",
    "    # merge both dfs\n",
    "    arrays = [df_features['Merkmalcluster'].replace(df_featureCluster.to_dict()['Merkmalsbezeichnung']).values, \n",
    "              df_features['MerkmalNr'].values]\n",
    "    tuples = list(zip(*arrays))\n",
    "    index = pd.MultiIndex.from_tuples(tuples, names=['Merkmalcluster', 'MerkmalNr'])\n",
    "    df = df_features.set_index(index)\n",
    "    \n",
    "    # build bike\n",
    "    bike = []\n",
    "    bikePrice = 0\n",
    "    for cluster in df['Merkmalcluster'].unique():\n",
    "        # get set of Merkmale\n",
    "        setMerkmale = df.query(\"Merkmalcluster == \" + str(cluster))['MerkmalNr'].values    \n",
    "        # ignoe 'no ...' part (marked with MerkmalNr : 'xxx99999')\n",
    "        unvalidClusters = [element for element in setMerkmale.astype(str) if '99999' in element]\n",
    "        setMerkmale = setMerkmale[setMerkmale.astype(str) != unvalidClusters]\n",
    "        # select random bike part\n",
    "        bikePart = randomElementInList(setMerkmale)\n",
    "        # get price of this part\n",
    "        pricePart = df.swaplevel().loc[int(bikePart)]['Preis'].astype(float).iloc[0]\n",
    "        # sum it up to get the total bike price\n",
    "        bikePrice += pricePart\n",
    "        bike.append(bikePart)\n",
    "    return bike, bikePrice"
   ]
  },
  {
   "cell_type": "code",
   "execution_count": 15,
   "metadata": {},
   "outputs": [
    {
     "data": {
      "text/plain": [
       "([100003,\n",
       "  200001,\n",
       "  300001,\n",
       "  400001,\n",
       "  500003,\n",
       "  600001,\n",
       "  700001,\n",
       "  800002,\n",
       "  900003,\n",
       "  1000004],\n",
       " 992.96)"
      ]
     },
     "execution_count": 15,
     "metadata": {},
     "output_type": "execute_result"
    }
   ],
   "source": [
    "randomBike()"
   ]
  },
  {
   "cell_type": "markdown",
   "metadata": {},
   "source": [
    "## Fill data"
   ]
  },
  {
   "cell_type": "markdown",
   "metadata": {},
   "source": [
    "### Kundendaten\n",
    "Im ersten Schritt ist es erforderliche einen Kundendatenstamm anzulegen, welcher unabhängig befüllt werden kann und auf den weitere Bestellungen bzw. Konfigurationen zugreifen können."
   ]
  },
  {
   "cell_type": "code",
   "execution_count": 16,
   "metadata": {},
   "outputs": [],
   "source": [
    "def fillCustomerTable(n,columnNamesDB=['Name','Vorname','Mail'],includeID=True):\n",
    "    \"\"\"\n",
    "    Hinzufügen von zufällig generierten Einträgen in der DB-Tabelle 'Kunde'\n",
    "    \n",
    "    n - Anzahl der Einträge die hinzugefügt werden sollen\n",
    "    columnNamesDB - Spaltennamen der Kunden-Tabelle in der DB (mit Ausnahme der KundenNr; Reihenfolge beachten!) \n",
    "    includeID - Ob KundenNr seperat mit angelegt werden soll\n",
    "    \n",
    "    Es werden die Inhalte nach den defaults in den Parametern erzeugt!\n",
    "    Das Ändern der Reihenfolge der Spalten und die Hinzunahme weiterer Spalten muss im Quellcode angepasst werden!\n",
    "    \"\"\"\n",
    "    # Kundentabelle füllen\n",
    "    table_name = 'Kunde'\n",
    "    customerId = 'KundenNr'\n",
    "    if includeID:\n",
    "        customer_keys = np.concatenate(([customerId],columnNamesDB)) \n",
    "    else:\n",
    "        customer_keys = columnNamesDB\n",
    "    for i in range(n):\n",
    "        customer_name = randomName()\n",
    "        customer_values = i+1, customer_name[0], customer_name[1], randomMail(*customer_name)\n",
    "        if includeID:\n",
    "            customer_dict = dict(zip(customer_keys,customer_values))\n",
    "        else:\n",
    "            customer_dict = dict(zip(customer_keys,customer_values[1:]))\n",
    "        my_db.insert_data(table_name,customer_dict)"
   ]
  },
  {
   "cell_type": "code",
   "execution_count": 17,
   "metadata": {},
   "outputs": [
    {
     "name": "stdout",
     "output_type": "stream",
     "text": [
      "INSERT INTO `Kunde` (`Name`, `Vorname`, `Mail`) VALUES ('Moriah', 'Hollingshead', 'moriah.hollingshead@web.de');\n"
     ]
    }
   ],
   "source": [
    "fillCustomerTable(1,includeID=False)"
   ]
  },
  {
   "cell_type": "markdown",
   "metadata": {},
   "source": [
    "### Konfiguraton\n",
    "Im zweiten Schritt werden zufällige Konfigurationen von Fahrrädern erstellt, die einer Auftragsnummer hinzugefügt werden und dessen Gesamtpreis berechnet wird."
   ]
  },
  {
   "cell_type": "code",
   "execution_count": 34,
   "metadata": {},
   "outputs": [],
   "source": [
    "def generateConfigurationData(n,columnNamesDB=['AuftragNr','MerkmalNr'],table_name='Konfiguration',\n",
    "                              configId_name = 'KonfigNr',includeID=True):\n",
    "    \"\"\"\n",
    "    Aufgrund der Abhängigkeiten der Tabellen 'Auftrag' und 'Konfiguration' mit den Spalten 'Gesamtpreis' <-> 'AuftragNr', \n",
    "    wird in dieser Funktion der Output für die Konfiguration inkl. Informationen für die  für ein späteres Einfügen in die DB erzeugt\n",
    "    \n",
    "    \"\"\"\n",
    "    # create keys\n",
    "    if includeID:\n",
    "        config_keys = np.concatenate(([configId_name],columnNamesDB)) \n",
    "    else:\n",
    "        config_keys = columnNamesDB\n",
    "\n",
    "    # get old entries in order to appending new ones\n",
    "    df_before = my_db.get_table(table_name)\n",
    "    start = df_before.iloc[:,1].max() + 1 #max orderId + 1\n",
    "    n += start\n",
    "\n",
    "    order = []\n",
    "    config_dict = []\n",
    "    # iterate through all orders that should be created\n",
    "    for orderId in range(start,n):\n",
    "        # build random bike\n",
    "        bike,bikePrice = randomBike()\n",
    "        # keep orderId and bikePrice for later order fillings\n",
    "        order.append(dict(zip(('orderId','bikePrice'),(orderId,bikePrice))))\n",
    "        # iterate through each bike part\n",
    "        for partId, featureId in enumerate(bike):\n",
    "            # generate values\n",
    "            config_values = orderId*100+partId, orderId, featureId\n",
    "            # keep the config_dict for later inserts \n",
    "            if includeID:\n",
    "                config_dict.append(dict(zip(config_keys,config_values)))\n",
    "            else:\n",
    "                config_dict.append(dict(zip(config_keys,config_values[1:])))\n",
    "                \n",
    "    df_order = pd.DataFrame(order)\n",
    "    return config_dict, df_order "
   ]
  },
  {
   "cell_type": "code",
   "execution_count": 36,
   "metadata": {},
   "outputs": [
    {
     "name": "stdout",
     "output_type": "stream",
     "text": [
      "[{'KonfigNr': 400, 'AuftragNr': 4, 'MerkmalNr': 100003}, {'KonfigNr': 401, 'AuftragNr': 4, 'MerkmalNr': 200002}, {'KonfigNr': 402, 'AuftragNr': 4, 'MerkmalNr': 300004}, {'KonfigNr': 403, 'AuftragNr': 4, 'MerkmalNr': 400002}, {'KonfigNr': 404, 'AuftragNr': 4, 'MerkmalNr': 500005}, {'KonfigNr': 405, 'AuftragNr': 4, 'MerkmalNr': 600002}, {'KonfigNr': 406, 'AuftragNr': 4, 'MerkmalNr': 700003}, {'KonfigNr': 407, 'AuftragNr': 4, 'MerkmalNr': 800002}, {'KonfigNr': 408, 'AuftragNr': 4, 'MerkmalNr': 900003}, {'KonfigNr': 409, 'AuftragNr': 4, 'MerkmalNr': 1000004}]\n"
     ]
    },
    {
     "data": {
      "text/html": [
       "<div>\n",
       "<style scoped>\n",
       "    .dataframe tbody tr th:only-of-type {\n",
       "        vertical-align: middle;\n",
       "    }\n",
       "\n",
       "    .dataframe tbody tr th {\n",
       "        vertical-align: top;\n",
       "    }\n",
       "\n",
       "    .dataframe thead th {\n",
       "        text-align: right;\n",
       "    }\n",
       "</style>\n",
       "<table border=\"1\" class=\"dataframe\">\n",
       "  <thead>\n",
       "    <tr style=\"text-align: right;\">\n",
       "      <th></th>\n",
       "      <th>orderId</th>\n",
       "      <th>bikePrice</th>\n",
       "    </tr>\n",
       "  </thead>\n",
       "  <tbody>\n",
       "    <tr>\n",
       "      <th>0</th>\n",
       "      <td>4</td>\n",
       "      <td>1065.47</td>\n",
       "    </tr>\n",
       "  </tbody>\n",
       "</table>\n",
       "</div>"
      ],
      "text/plain": [
       "   orderId  bikePrice\n",
       "0        4    1065.47"
      ]
     },
     "execution_count": 36,
     "metadata": {},
     "output_type": "execute_result"
    }
   ],
   "source": [
    "generateConfigurationData(1)"
   ]
  },
  {
   "cell_type": "code",
   "execution_count": 28,
   "metadata": {},
   "outputs": [
    {
     "name": "stdout",
     "output_type": "stream",
     "text": [
      "2\n",
      "{'KonfigNr': 200, 'AuftragNr': 2, 'MerkmalNr': 100002}\n",
      "INSERT INTO `Konfiguration` (`KonfigNr`, `AuftragNr`, `MerkmalNr`) VALUES ('200', '2', '100002');\n",
      "{'KonfigNr': 201, 'AuftragNr': 2, 'MerkmalNr': 200003}\n",
      "INSERT INTO `Konfiguration` (`KonfigNr`, `AuftragNr`, `MerkmalNr`) VALUES ('201', '2', '200003');\n",
      "{'KonfigNr': 202, 'AuftragNr': 2, 'MerkmalNr': 300001}\n",
      "INSERT INTO `Konfiguration` (`KonfigNr`, `AuftragNr`, `MerkmalNr`) VALUES ('202', '2', '300001');\n",
      "{'KonfigNr': 203, 'AuftragNr': 2, 'MerkmalNr': 400003}\n",
      "INSERT INTO `Konfiguration` (`KonfigNr`, `AuftragNr`, `MerkmalNr`) VALUES ('203', '2', '400003');\n",
      "{'KonfigNr': 204, 'AuftragNr': 2, 'MerkmalNr': 500002}\n",
      "INSERT INTO `Konfiguration` (`KonfigNr`, `AuftragNr`, `MerkmalNr`) VALUES ('204', '2', '500002');\n",
      "{'KonfigNr': 205, 'AuftragNr': 2, 'MerkmalNr': 600002}\n",
      "INSERT INTO `Konfiguration` (`KonfigNr`, `AuftragNr`, `MerkmalNr`) VALUES ('205', '2', '600002');\n",
      "{'KonfigNr': 206, 'AuftragNr': 2, 'MerkmalNr': 700001}\n",
      "INSERT INTO `Konfiguration` (`KonfigNr`, `AuftragNr`, `MerkmalNr`) VALUES ('206', '2', '700001');\n",
      "{'KonfigNr': 207, 'AuftragNr': 2, 'MerkmalNr': 800003}\n",
      "INSERT INTO `Konfiguration` (`KonfigNr`, `AuftragNr`, `MerkmalNr`) VALUES ('207', '2', '800003');\n",
      "{'KonfigNr': 208, 'AuftragNr': 2, 'MerkmalNr': 900003}\n",
      "INSERT INTO `Konfiguration` (`KonfigNr`, `AuftragNr`, `MerkmalNr`) VALUES ('208', '2', '900003');\n",
      "{'KonfigNr': 209, 'AuftragNr': 2, 'MerkmalNr': 1000003}\n",
      "INSERT INTO `Konfiguration` (`KonfigNr`, `AuftragNr`, `MerkmalNr`) VALUES ('209', '2', '1000003');\n",
      "3\n",
      "{'KonfigNr': 300, 'AuftragNr': 3, 'MerkmalNr': 100003}\n",
      "INSERT INTO `Konfiguration` (`KonfigNr`, `AuftragNr`, `MerkmalNr`) VALUES ('300', '3', '100003');\n",
      "{'KonfigNr': 301, 'AuftragNr': 3, 'MerkmalNr': 200001}\n",
      "INSERT INTO `Konfiguration` (`KonfigNr`, `AuftragNr`, `MerkmalNr`) VALUES ('301', '3', '200001');\n",
      "{'KonfigNr': 302, 'AuftragNr': 3, 'MerkmalNr': 300005}\n",
      "INSERT INTO `Konfiguration` (`KonfigNr`, `AuftragNr`, `MerkmalNr`) VALUES ('302', '3', '300005');\n",
      "{'KonfigNr': 303, 'AuftragNr': 3, 'MerkmalNr': 400002}\n",
      "INSERT INTO `Konfiguration` (`KonfigNr`, `AuftragNr`, `MerkmalNr`) VALUES ('303', '3', '400002');\n",
      "{'KonfigNr': 304, 'AuftragNr': 3, 'MerkmalNr': 500003}\n",
      "INSERT INTO `Konfiguration` (`KonfigNr`, `AuftragNr`, `MerkmalNr`) VALUES ('304', '3', '500003');\n",
      "{'KonfigNr': 305, 'AuftragNr': 3, 'MerkmalNr': 600003}\n",
      "INSERT INTO `Konfiguration` (`KonfigNr`, `AuftragNr`, `MerkmalNr`) VALUES ('305', '3', '600003');\n",
      "{'KonfigNr': 306, 'AuftragNr': 3, 'MerkmalNr': 700003}\n",
      "INSERT INTO `Konfiguration` (`KonfigNr`, `AuftragNr`, `MerkmalNr`) VALUES ('306', '3', '700003');\n",
      "{'KonfigNr': 307, 'AuftragNr': 3, 'MerkmalNr': 800001}\n",
      "INSERT INTO `Konfiguration` (`KonfigNr`, `AuftragNr`, `MerkmalNr`) VALUES ('307', '3', '800001');\n",
      "{'KonfigNr': 308, 'AuftragNr': 3, 'MerkmalNr': 900001}\n",
      "INSERT INTO `Konfiguration` (`KonfigNr`, `AuftragNr`, `MerkmalNr`) VALUES ('308', '3', '900001');\n",
      "{'KonfigNr': 309, 'AuftragNr': 3, 'MerkmalNr': 1000003}\n",
      "INSERT INTO `Konfiguration` (`KonfigNr`, `AuftragNr`, `MerkmalNr`) VALUES ('309', '3', '1000003');\n"
     ]
    }
   ],
   "source": [
    "n = 1\n",
    "columnNamesDB=['AuftragNr','MerkmalNr']\n",
    "table_name = 'Konfiguration'\n",
    "configId_name = 'KonfigNr'\n",
    "includeID = True\n",
    "\n",
    "# create keys\n",
    "if includeID:\n",
    "    order_keys = np.concatenate(([configId_name],columnNamesDB)) \n",
    "else:\n",
    "    order_keys = columnNamesDB\n",
    "\n",
    "# get old entries in order to appending new ones\n",
    "df_before = my_db.get_table(table_name)\n",
    "start = df_before.iloc[:,1].max() + 1 #max orderId + 1\n",
    "n += start\n",
    "\n",
    "order = []\n",
    "# iterate through all orders that should be created\n",
    "for orderId in range(start,n):\n",
    "    print(orderId)\n",
    "    # build random bike\n",
    "    bike,bikePrice = randomBike()\n",
    "    # keep orderId and bikePrice for later order fillings\n",
    "    order.append(dict(zip(('orderId','bikePrice'),(orderId,bikePrice))))\n",
    "    # iterate through each bike part\n",
    "    for partId, featureId in enumerate(bike):\n",
    "        # generate values\n",
    "        order_values = orderId*100+partId, orderId, featureId\n",
    "        if includeID:\n",
    "            order_dict = dict(zip(order_keys,order_values))\n",
    "        else:\n",
    "            order_dict = dict(zip(order_keys,order_values[1:]))\n",
    "        # insert each bike part as a new row\n",
    "        print(order_dict)\n",
    "        my_db.insert_data(table_name,order_dict)\n",
    "        \n",
    "df_order = pd.DataFrame(order)\n",
    "#return df_order\n",
    "        "
   ]
  },
  {
   "cell_type": "code",
   "execution_count": 25,
   "metadata": {},
   "outputs": [],
   "source": [
    "def fillOrderTable(df_order,columnNamesDB=['Bestelldatum','Lieferdatum','KundenNr','Gesamtpreis'],\n",
    "                   includeID=True, customerTableName='Kunde',customerId='KundenNr',startDate='2020-01-01'):\n",
    "    \"\"\"\n",
    "    Hinzufügen von zufällig generierten Einträgen in der DB-Tabelle 'Aufträge'\n",
    "    \n",
    "    n - Anzahl der Einträge die hinzugefügt werden sollen\n",
    "    df_order - DataFrames welches von dem Konfigurator zur Anlegung eines Auftrags und zur Bestimmung des Gesamtpreises verwendet wird\n",
    "    columnNamesDB - Spaltennamen der Auftrag-Tabelle in der DB (mit Ausnahme der AuftrNr; Reihenfolge beachten!) \n",
    "    includeID - Ob AuftrNr seperat mit angelegt werden soll\n",
    "    customerTableName - Name der DB-Tabelle 'Kunde'\n",
    "    customerId - Name der Identifikationsnummer in customerTable\n",
    "    startDate - Startdatum zur zufälligen Erzeugung\n",
    "    \n",
    "    Es werden die Inhalte nach den defaults in den Parametern erzeugt!\n",
    "    Das Ändern der Reihenfolge der Spalten und die Hinzunahme weiterer Spalten muss im Quellcode angepasst werden!\n",
    "    \"\"\"\n",
    "    table_name = 'Auftrag'\n",
    "    orderId_name = 'AuftrNr'\n",
    "    \n",
    "    # Read relevant range of values for existing customers\n",
    "    df_customers = my_db.get_table(customerTableName)\n",
    "    \n",
    "    # create keys\n",
    "    if includeID:\n",
    "        order_keys = np.concatenate(([orderId_name],columnNamesDB)) \n",
    "    else:\n",
    "        order_keys = columnNamesDB\n",
    "        \n",
    "    # create values and fill\n",
    "    for _,order in df_order.iterrows():\n",
    "        orderId = order[0].astype(int)\n",
    "        orderPrice = order[1].astype(float)\n",
    "        \n",
    "        rand_orderDate = randomDate(start=startDate,\n",
    "                                    end=datetime.datetime.now().strftime(\"%Y-%m-%d\"),\n",
    "                                    format=\"%Y-%m-%d\",\n",
    "                                    prop=random.random())\n",
    "        rand_delivDate = datetime.datetime.strftime(datetime.datetime.strptime(rand_orderDate,\"%Y-%m-%d\") + datetime.timedelta(days=14),\"%Y-%m-%d\")\n",
    "        rand_customerId = randomNumber(start=df_customers[customerId].astype(int).min(),\n",
    "                                        stop=df_customers[customerId].astype(int).max())\n",
    "        order_values = orderId, rand_orderDate, rand_delivDate, rand_customerId, orderPrice\n",
    "        if includeID:\n",
    "            order_dict = dict(zip(order_keys,order_values))\n",
    "        else:\n",
    "            order_dict = dict(zip(order_keys,order_values[1:]))\n",
    "        my_db.insert_data(table_name,order_dict)"
   ]
  },
  {
   "cell_type": "code",
   "execution_count": null,
   "metadata": {},
   "outputs": [],
   "source": [
    "def fill"
   ]
  },
  {
   "cell_type": "code",
   "execution_count": 26,
   "metadata": {},
   "outputs": [
    {
     "name": "stdout",
     "output_type": "stream",
     "text": [
      "INSERT INTO `Auftrag` (`Bestelldatum`, `Lieferdatum`, `KundenNr`, `Gesamtpreis`) VALUES ('2020-05-30', '2020-06-13', '2', '1037.97');\n",
      "INSERT INTO `Auftrag` (`Bestelldatum`, `Lieferdatum`, `KundenNr`, `Gesamtpreis`) VALUES ('2020-03-15', '2020-03-29', '3', '1099.95');\n"
     ]
    }
   ],
   "source": [
    "fillOrderTable(1,df_order,includeID=False)"
   ]
  },
  {
   "cell_type": "code",
   "execution_count": 27,
   "metadata": {},
   "outputs": [
    {
     "data": {
      "text/html": [
       "<div>\n",
       "<style scoped>\n",
       "    .dataframe tbody tr th:only-of-type {\n",
       "        vertical-align: middle;\n",
       "    }\n",
       "\n",
       "    .dataframe tbody tr th {\n",
       "        vertical-align: top;\n",
       "    }\n",
       "\n",
       "    .dataframe thead th {\n",
       "        text-align: right;\n",
       "    }\n",
       "</style>\n",
       "<table border=\"1\" class=\"dataframe\">\n",
       "  <thead>\n",
       "    <tr style=\"text-align: right;\">\n",
       "      <th></th>\n",
       "      <th>orderId</th>\n",
       "      <th>bikePrice</th>\n",
       "    </tr>\n",
       "  </thead>\n",
       "  <tbody>\n",
       "    <tr>\n",
       "      <th>0</th>\n",
       "      <td>2</td>\n",
       "      <td>1037.97</td>\n",
       "    </tr>\n",
       "    <tr>\n",
       "      <th>1</th>\n",
       "      <td>3</td>\n",
       "      <td>1099.95</td>\n",
       "    </tr>\n",
       "  </tbody>\n",
       "</table>\n",
       "</div>"
      ],
      "text/plain": [
       "   orderId  bikePrice\n",
       "0        2    1037.97\n",
       "1        3    1099.95"
      ]
     },
     "execution_count": 27,
     "metadata": {},
     "output_type": "execute_result"
    }
   ],
   "source": [
    "df_order"
   ]
  },
  {
   "cell_type": "code",
   "execution_count": null,
   "metadata": {},
   "outputs": [],
   "source": [
    "for _,order in df_order.iterrows():\n",
    "    print(order[0].astype(int))"
   ]
  },
  {
   "cell_type": "markdown",
   "metadata": {},
   "source": [
    "### Aufträge"
   ]
  },
  {
   "cell_type": "code",
   "execution_count": null,
   "metadata": {},
   "outputs": [],
   "source": [
    "def fillOrderTable(n,columnNamesDB=['Datum','KundenNr'],includeID=True,\n",
    "                   customerTableName='Kunde',customerId='KundenNr',startDate='2020-01-01'):\n",
    "    \"\"\"\n",
    "    Hinzufügen von zufällig generierten Einträgen in der DB-Tabelle 'Aufträge'\n",
    "    \n",
    "    n - Anzahl der Einträge die hinzugefügt werden sollen\n",
    "    columnNamesDB - Spaltennamen der Auftrag-Tabelle in der DB (mit Ausnahme der AuftrNr; Reihenfolge beachten!) \n",
    "    includeID - Ob AuftrNr seperat mit angelegt werden soll\n",
    "    customerTableName - Name der DB-Tabelle 'Kunde'\n",
    "    customerId - Name der Identifikationsnummer in customerTable\n",
    "    startDate - Startdatum zur zufälligen Erzeugung\n",
    "    \n",
    "    Es werden die Inhalte nach den defaults in den Parametern erzeugt!\n",
    "    Das Ändern der Reihenfolge der Spalten und die Hinzunahme weiterer Spalten muss im Quellcode angepasst werden!\n",
    "    \"\"\"\n",
    "    table_name = 'Auftrag'\n",
    "    orderId = 'AuftrNr'\n",
    "    \n",
    "    # Lesen der Wertebereiche aus relevanten Tabellen\n",
    "    df_customers = my_db.get_table(customerTableName)\n",
    "    \n",
    "    # Auftragstabelle füllen\n",
    "    if includeID:\n",
    "        order_keys = np.concatenate(([customerId],columnNamesDB)) \n",
    "    else:\n",
    "        order_keys = columnNamesDB\n",
    "    for i in range(n):\n",
    "        rand_orderDate = randomDate(start=startDate,\n",
    "                                    end=datetime.datetime.now().strftime(\"%Y-%m-%d\"),\n",
    "                                    format=\"%Y-%m-%d\",\n",
    "                                    prop=random.random())\n",
    "        rand_customerId = randomNumber(start=df_customers[customerId].astype(int).min(),\n",
    "                                        stop=df_customers[customerId].astype(int).max())\n",
    "        order_values = i+1, rand_orderDate, rand_customerId\n",
    "        if includeID:\n",
    "            order_dict = dict(zip(order_keys,order_values))\n",
    "        else:\n",
    "            order_dict = dict(zip(order_keys,order_values[1:]))\n",
    "        my_db.insert_data(table_name,order_dict)"
   ]
  },
  {
   "cell_type": "code",
   "execution_count": null,
   "metadata": {},
   "outputs": [],
   "source": [
    "fillOrderTable(1)"
   ]
  },
  {
   "cell_type": "markdown",
   "metadata": {},
   "source": [
    "### Konfigurator TEST"
   ]
  },
  {
   "cell_type": "code",
   "execution_count": null,
   "metadata": {},
   "outputs": [],
   "source": []
  },
  {
   "cell_type": "code",
   "execution_count": null,
   "metadata": {},
   "outputs": [],
   "source": [
    "# TODO: replace this by read tabels from DB\n",
    "df_merkmalcluster = pd.DataFrame(merkmalcluster)\n",
    "df_merkmalcluster.set_index('ClusterNr',inplace=True)\n",
    "df_merkmale = pd.DataFrame(merkmale)"
   ]
  },
  {
   "cell_type": "code",
   "execution_count": null,
   "metadata": {
    "scrolled": true
   },
   "outputs": [],
   "source": [
    "#merge dfs\n",
    "arrays = [df_merkmale['Merkmalcluster'].replace(df_merkmalcluster.to_dict()['Merkmalsbezeichnung']).values, \n",
    "          df_merkmale['MerkmalNr'].values]\n",
    "tuples = list(zip(*arrays))\n",
    "index = pd.MultiIndex.from_tuples(tuples, names=['Merkmalcluster', 'MerkmalNr'])\n",
    "df = df_merkmale.set_index(index)\n",
    "df"
   ]
  },
  {
   "cell_type": "code",
   "execution_count": null,
   "metadata": {},
   "outputs": [],
   "source": [
    "for merkmal in df['Merkmalcluster'].unique():\n",
    "    print('generate number for merkmal:',merkmal)"
   ]
  },
  {
   "cell_type": "code",
   "execution_count": null,
   "metadata": {},
   "outputs": [],
   "source": [
    "df.query(\"Merkmalcluster == 8\")['MerkmalNr'].astype(str).values"
   ]
  },
  {
   "cell_type": "code",
   "execution_count": null,
   "metadata": {},
   "outputs": [],
   "source": [
    "# get set of Merkmale\n",
    "setMerkmale = df.query(\"Merkmalcluster == 8\")['MerkmalNr'].astype(str).values\n",
    "# ignoe 'no ...' part\n",
    "unvalidClusters = [element for element in setMerkmale if '99999' in element]\n",
    "setMerkmale = setMerkmale[setMerkmale != unvalidClusters]"
   ]
  },
  {
   "cell_type": "code",
   "execution_count": null,
   "metadata": {},
   "outputs": [],
   "source": [
    "[element for element in setMerkmale if 99999 in element]"
   ]
  },
  {
   "cell_type": "code",
   "execution_count": null,
   "metadata": {},
   "outputs": [],
   "source": [
    "setMerkmale"
   ]
  },
  {
   "cell_type": "code",
   "execution_count": null,
   "metadata": {},
   "outputs": [],
   "source": [
    "df.query(\"Merkmalcluster == 8\")"
   ]
  },
  {
   "cell_type": "code",
   "execution_count": null,
   "metadata": {},
   "outputs": [],
   "source": [
    "# select random element\n",
    "randomElementInList(setMerkmale)"
   ]
  },
  {
   "cell_type": "code",
   "execution_count": null,
   "metadata": {},
   "outputs": [],
   "source": [
    "# build bike\n",
    "bike = []\n",
    "bikePrice = 0\n",
    "for cluster in df['Merkmalcluster'].unique():\n",
    "    # get set of Merkmale\n",
    "    setMerkmale = df.query(\"Merkmalcluster == \" + str(cluster))['MerkmalNr'].values    \n",
    "    # ignoe 'no ...' part (marked with MerkmalNr : 'xxx99999')\n",
    "    unvalidClusters = [element for element in setMerkmale.astype(str) if '99999' in element]\n",
    "    setMerkmale = setMerkmale[setMerkmale != unvalidClusters]\n",
    "    # select random bike part\n",
    "    bikePart = randomElementInList(setMerkmale)\n",
    "    # get price of this part\n",
    "    pricePart = df.swaplevel().loc[int(bikePart)]['Preis'].astype(float).iloc[0]\n",
    "    # sum it up to get the total bike price\n",
    "    bikePrice += pricePart\n",
    "    bike.append(bikePart)\n",
    "bike, bikePrice"
   ]
  },
  {
   "cell_type": "code",
   "execution_count": null,
   "metadata": {},
   "outputs": [],
   "source": [
    "# TODO: generate insert"
   ]
  },
  {
   "cell_type": "code",
   "execution_count": null,
   "metadata": {},
   "outputs": [],
   "source": [
    "df.swaplevel().loc[100001]['Preis']"
   ]
  },
  {
   "cell_type": "code",
   "execution_count": null,
   "metadata": {},
   "outputs": [],
   "source": [
    "df.swaplevel().loc[100003]['Preis'].astype(float).iloc[0]"
   ]
  },
  {
   "cell_type": "code",
   "execution_count": null,
   "metadata": {},
   "outputs": [],
   "source": []
  },
  {
   "cell_type": "code",
   "execution_count": null,
   "metadata": {},
   "outputs": [],
   "source": [
    "[element for element in setMerkmale.astype(str) if '99999' in element]"
   ]
  },
  {
   "cell_type": "code",
   "execution_count": null,
   "metadata": {},
   "outputs": [],
   "source": [
    "setMerkmale[setMerkmale.astype(str) != unvalidClusters]"
   ]
  },
  {
   "cell_type": "code",
   "execution_count": null,
   "metadata": {},
   "outputs": [],
   "source": [
    "setMerkmale[setMerkmale != unvalidClusters]"
   ]
  },
  {
   "cell_type": "code",
   "execution_count": null,
   "metadata": {},
   "outputs": [],
   "source": []
  }
 ],
 "metadata": {
  "kernelspec": {
   "display_name": "Python 3",
   "language": "python",
   "name": "python3"
  },
  "language_info": {
   "codemirror_mode": {
    "name": "ipython",
    "version": 3
   },
   "file_extension": ".py",
   "mimetype": "text/x-python",
   "name": "python",
   "nbconvert_exporter": "python",
   "pygments_lexer": "ipython3",
   "version": "3.7.6"
  }
 },
 "nbformat": 4,
 "nbformat_minor": 4
}
