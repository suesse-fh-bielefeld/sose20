{
 "cells": [
  {
   "cell_type": "code",
   "execution_count": 3,
   "metadata": {},
   "outputs": [],
   "source": [
    "from db_communication import db_communication\n",
    "import numpy as np\n",
    "import pandas as pd\n",
    "from datetime import datetime"
   ]
  },
  {
   "cell_type": "markdown",
   "metadata": {},
   "source": [
    "### Init tables/ dataframes"
   ]
  },
  {
   "cell_type": "code",
   "execution_count": 4,
   "metadata": {},
   "outputs": [
    {
     "name": "stdout",
     "output_type": "stream",
     "text": [
      "Successfully connected.\n"
     ]
    }
   ],
   "source": [
    "config = {\n",
    "    'user': 'root',\n",
    "    'password': 'FDS-apm1',\n",
    "    'host': 'min-ifm-xdm.ad.fh-bielefeld.de',\n",
    "    'port': '3306',\n",
    "    'database': 'Fahrradshop' \n",
    "}\n",
    "my_db = db_communication(config)"
   ]
  },
  {
   "cell_type": "code",
   "execution_count": 5,
   "metadata": {},
   "outputs": [],
   "source": [
    "cluster_df = my_db.get_table('Merkmalcluster')"
   ]
  },
  {
   "cell_type": "code",
   "execution_count": 6,
   "metadata": {
    "scrolled": true
   },
   "outputs": [],
   "source": [
    "parts_df = my_db.get_table('Einzelteile')"
   ]
  },
  {
   "cell_type": "code",
   "execution_count": 7,
   "metadata": {
    "scrolled": true
   },
   "outputs": [],
   "source": [
    "features_df = my_db.get_table('Merkmale')"
   ]
  },
  {
   "cell_type": "code",
   "execution_count": 9,
   "metadata": {
    "scrolled": true
   },
   "outputs": [
    {
     "data": {
      "text/html": [
       "<div>\n",
       "<style scoped>\n",
       "    .dataframe tbody tr th:only-of-type {\n",
       "        vertical-align: middle;\n",
       "    }\n",
       "\n",
       "    .dataframe tbody tr th {\n",
       "        vertical-align: top;\n",
       "    }\n",
       "\n",
       "    .dataframe thead th {\n",
       "        text-align: right;\n",
       "    }\n",
       "</style>\n",
       "<table border=\"1\" class=\"dataframe\">\n",
       "  <thead>\n",
       "    <tr style=\"text-align: right;\">\n",
       "      <th></th>\n",
       "      <th></th>\n",
       "      <th>MerkmalNr</th>\n",
       "    </tr>\n",
       "    <tr>\n",
       "      <th>AuftragNr</th>\n",
       "      <th>KonfigNr</th>\n",
       "      <th></th>\n",
       "    </tr>\n",
       "  </thead>\n",
       "  <tbody>\n",
       "    <tr>\n",
       "      <th rowspan=\"5\" valign=\"top\">1</th>\n",
       "      <th>100</th>\n",
       "      <td>100008</td>\n",
       "    </tr>\n",
       "    <tr>\n",
       "      <th>101</th>\n",
       "      <td>200001</td>\n",
       "    </tr>\n",
       "    <tr>\n",
       "      <th>102</th>\n",
       "      <td>300006</td>\n",
       "    </tr>\n",
       "    <tr>\n",
       "      <th>103</th>\n",
       "      <td>400005</td>\n",
       "    </tr>\n",
       "    <tr>\n",
       "      <th>104</th>\n",
       "      <td>500001</td>\n",
       "    </tr>\n",
       "  </tbody>\n",
       "</table>\n",
       "</div>"
      ],
      "text/plain": [
       "                    MerkmalNr\n",
       "AuftragNr KonfigNr           \n",
       "1         100          100008\n",
       "          101          200001\n",
       "          102          300006\n",
       "          103          400005\n",
       "          104          500001"
      ]
     },
     "execution_count": 9,
     "metadata": {},
     "output_type": "execute_result"
    }
   ],
   "source": [
    "config_df = my_db.get_table('Konfiguration')\n",
    "config_df.index = pd.MultiIndex.from_arrays([config_df['AuftragNr'],config_df['KonfigNr']])\n",
    "config_df = config_df['MerkmalNr'].to_frame()\n",
    "config_df.head(5)"
   ]
  },
  {
   "cell_type": "code",
   "execution_count": null,
   "metadata": {},
   "outputs": [],
   "source": [
    "parts_df['Bezeichnung']"
   ]
  },
  {
   "cell_type": "code",
   "execution_count": null,
   "metadata": {},
   "outputs": [],
   "source": [
    "features_df.transpose().loc['Bezeichnung']"
   ]
  },
  {
   "cell_type": "code",
   "execution_count": null,
   "metadata": {},
   "outputs": [],
   "source": [
    "cluster_df.head(5)"
   ]
  },
  {
   "cell_type": "markdown",
   "metadata": {},
   "source": [
    "### Direct demand matrix"
   ]
  },
  {
   "cell_type": "code",
   "execution_count": null,
   "metadata": {},
   "outputs": [],
   "source": [
    "# generate Multiindex for the columns\n",
    "col_main = cluster_df['Merkmalsbezeichnung'][features_df['Merkmalcluster'].values-1]\n",
    "col_main.name = 'Cluster'\n",
    "col_sub = features_df['Bezeichnung']\n",
    "col_sub.name = 'Merkmal'\n",
    "col = pd.MultiIndex.from_arrays([col_main,col_sub])"
   ]
  },
  {
   "cell_type": "code",
   "execution_count": null,
   "metadata": {},
   "outputs": [],
   "source": [
    "# part name as index \n",
    "index_names = parts_df['Bezeichnung']\n",
    "index_names.name = 'Einzelteil'"
   ]
  },
  {
   "cell_type": "code",
   "execution_count": null,
   "metadata": {
    "scrolled": false
   },
   "outputs": [],
   "source": [
    "# fill data with NaNs\n",
    "data = np.ones((len(index_names),len(col))) * np.nan\n",
    "\n",
    "df = pd.DataFrame(data=data,columns=col,index=index_names)\n",
    "df"
   ]
  },
  {
   "cell_type": "code",
   "execution_count": null,
   "metadata": {},
   "outputs": [],
   "source": [
    "# save template as Excel with current datetime as version\n",
    "#df.to_excel('DirectDemandMatrix_' + datetime.now().strftime('%Y%m%d_%H%M%S') + '.xlsx')"
   ]
  },
  {
   "cell_type": "code",
   "execution_count": null,
   "metadata": {},
   "outputs": [],
   "source": [
    "features_df[features_df['Merkmalcluster'] == 7]"
   ]
  },
  {
   "cell_type": "code",
   "execution_count": null,
   "metadata": {},
   "outputs": [],
   "source": []
  },
  {
   "cell_type": "markdown",
   "metadata": {},
   "source": [
    "### Verify direct demand matrix"
   ]
  },
  {
   "cell_type": "code",
   "execution_count": 11,
   "metadata": {},
   "outputs": [],
   "source": [
    "# read excel\n",
    "filename = 'DirectDemandMatrix_20200614_110337.xlsx'\n",
    "directDemand_df = pd.read_excel(filename,\n",
    "                                header=[0,1],\n",
    "                                index_col=0)"
   ]
  },
  {
   "cell_type": "code",
   "execution_count": null,
   "metadata": {},
   "outputs": [],
   "source": [
    "directDemand_df"
   ]
  },
  {
   "cell_type": "code",
   "execution_count": null,
   "metadata": {},
   "outputs": [],
   "source": [
    "# check columns\n",
    "print(\"Columns with NaNs only:\\n\")\n",
    "for col_name,col in directDemand_df.iteritems():\n",
    "    if col.isnull().all():\n",
    "        print(col_name)"
   ]
  },
  {
   "cell_type": "code",
   "execution_count": null,
   "metadata": {},
   "outputs": [],
   "source": [
    "# check rows\n",
    "print(\"Rows with NaNs only:\\n\")\n",
    "for row_name,row in directDemand_df.iterrows():\n",
    "    if row.isnull().all():\n",
    "        print(row_name)"
   ]
  },
  {
   "cell_type": "code",
   "execution_count": 12,
   "metadata": {},
   "outputs": [],
   "source": [
    "def checkConfig(orderId,\n",
    "                features_df=features_df,cluster_df=cluster_df,\n",
    "                config_df=config_df, directDemand_df=directDemand_df):\n",
    "    \"\"\"\n",
    "    verification through test configurations\n",
    "    \"\"\"\n",
    "    # init lists\n",
    "    feature_names = []\n",
    "    part_names = []\n",
    "    part_count = []\n",
    "    for row_name,row in config_df.loc[orderId].iterrows():\n",
    "        # map feature id to feature name and cluster\n",
    "        feature_i = features_df.set_index('MerkmalNr').loc[row.values[0]]\n",
    "        feature_name = feature_i['Bezeichnung']\n",
    "        # get current cluster name\n",
    "        feature_cluster = feature_i['Merkmalcluster']\n",
    "        cluster_name = cluster_df.set_index('ClusterNr').loc[str(feature_cluster)].iloc[0]\n",
    "\n",
    "        # get current parts per feature\n",
    "        parts = directDemand_df[cluster_name,feature_name].dropna()\n",
    "        if len(parts) != 0:\n",
    "            part_names.append(parts.index.to_list())\n",
    "        else:\n",
    "            part_names.append([None])\n",
    "        part_count.append(parts.values.astype(int))\n",
    "        feature_names.append([feature_name for i in range(len(part_names[-1]))])\n",
    "\n",
    "    # flatten lists for multiindexing\n",
    "    feature_names = [feature_i for feature_name in feature_names for feature_i in feature_name] \n",
    "    part_names = [part_i for part_name in part_names for part_i in part_name] \n",
    "\n",
    "    # to df\n",
    "    index = pd.MultiIndex.from_arrays([feature_names,part_names])\n",
    "    index.names=['Merkmal','Einzelteil']\n",
    "    df = pd.DataFrame(index=index,columns=['Anzahl'])\n",
    "    # fill data\n",
    "    i = 0\n",
    "    for part_i in part_count:\n",
    "        if len(part_i) != 0:\n",
    "            for j in part_i:\n",
    "                df.iloc[i] = [j]\n",
    "                i += 1\n",
    "        else:\n",
    "            df.iloc[i] = [None]\n",
    "            i += 1\n",
    "\n",
    "    return df"
   ]
  },
  {
   "cell_type": "code",
   "execution_count": 17,
   "metadata": {},
   "outputs": [
    {
     "data": {
      "text/html": [
       "<div>\n",
       "<style scoped>\n",
       "    .dataframe tbody tr th:only-of-type {\n",
       "        vertical-align: middle;\n",
       "    }\n",
       "\n",
       "    .dataframe tbody tr th {\n",
       "        vertical-align: top;\n",
       "    }\n",
       "\n",
       "    .dataframe thead th {\n",
       "        text-align: right;\n",
       "    }\n",
       "</style>\n",
       "<table border=\"1\" class=\"dataframe\">\n",
       "  <thead>\n",
       "    <tr style=\"text-align: right;\">\n",
       "      <th></th>\n",
       "      <th></th>\n",
       "      <th>Anzahl</th>\n",
       "    </tr>\n",
       "    <tr>\n",
       "      <th>Merkmal</th>\n",
       "      <th>Einzelteil</th>\n",
       "      <th></th>\n",
       "    </tr>\n",
       "  </thead>\n",
       "  <tbody>\n",
       "    <tr>\n",
       "      <th rowspan=\"4\" valign=\"top\">Damen Trekkingbike</th>\n",
       "      <th>Radon Scart Light Lady</th>\n",
       "      <td>1</td>\n",
       "    </tr>\n",
       "    <tr>\n",
       "      <th>Cube Universal Fahrradstaender</th>\n",
       "      <td>1</td>\n",
       "    </tr>\n",
       "    <tr>\n",
       "      <th>Red Cycling Products Front Tray silver</th>\n",
       "      <td>1</td>\n",
       "    </tr>\n",
       "    <tr>\n",
       "      <th>SKS Velo 55 Trekking Schutzbleche</th>\n",
       "      <td>1</td>\n",
       "    </tr>\n",
       "    <tr>\n",
       "      <th>Gelaendefederung Extrem</th>\n",
       "      <th>Marzocchi Bomber 58 Federgabel</th>\n",
       "      <td>1</td>\n",
       "    </tr>\n",
       "    <tr>\n",
       "      <th>Aventurinrot II metallic</th>\n",
       "      <th>NaN</th>\n",
       "      <td>None</td>\n",
       "    </tr>\n",
       "    <tr>\n",
       "      <th rowspan=\"2\" valign=\"top\">Rennradlenker ohne Klingel</th>\n",
       "      <th>Ritchey Comp Streem III Di2 Road Lenker</th>\n",
       "      <td>1</td>\n",
       "    </tr>\n",
       "    <tr>\n",
       "      <th>Cube Lenkerband Kork</th>\n",
       "      <td>2</td>\n",
       "    </tr>\n",
       "    <tr>\n",
       "      <th rowspan=\"2\" valign=\"top\">Felgen Gelaende Standard</th>\n",
       "      <th>Mavic Crossmax 29\" Laufradsatz Intl</th>\n",
       "      <td>2</td>\n",
       "    </tr>\n",
       "    <tr>\n",
       "      <th>Ryde Zac 19 DH-C3003 Nabendynamo silver</th>\n",
       "      <td>1</td>\n",
       "    </tr>\n",
       "    <tr>\n",
       "      <th rowspan=\"3\" valign=\"top\">Bereifung Gelaende</th>\n",
       "      <th>WTB Vigilante Faltreifen 27,5x2,5\" TCS Light Fast Rolling black/light brown</th>\n",
       "      <td>2</td>\n",
       "    </tr>\n",
       "    <tr>\n",
       "      <th>NoTubes Universal Tubeless Ventil 35mm MTB</th>\n",
       "      <td>2</td>\n",
       "    </tr>\n",
       "    <tr>\n",
       "      <th>SCHWALBE No.13 Fahrradschlauch</th>\n",
       "      <td>2</td>\n",
       "    </tr>\n",
       "    <tr>\n",
       "      <th rowspan=\"7\" valign=\"top\">Gelaende Kettenschaltung mechanisch</th>\n",
       "      <th>XX1 Eagle DUB</th>\n",
       "      <td>1</td>\n",
       "    </tr>\n",
       "    <tr>\n",
       "      <th>XX1 Eagle Triggershifter</th>\n",
       "      <td>1</td>\n",
       "    </tr>\n",
       "    <tr>\n",
       "      <th>X-Horizon, X-Actuation, X-Sync, Roller Bearing Clutch, Cage Lock</th>\n",
       "      <td>1</td>\n",
       "    </tr>\n",
       "    <tr>\n",
       "      <th>XX1 Eagle Kette</th>\n",
       "      <td>1</td>\n",
       "    </tr>\n",
       "    <tr>\n",
       "      <th>XG-1295 Eagle Kassette</th>\n",
       "      <td>1</td>\n",
       "    </tr>\n",
       "    <tr>\n",
       "      <th>Direct Mount, X-Sync</th>\n",
       "      <td>1</td>\n",
       "    </tr>\n",
       "    <tr>\n",
       "      <th>Horn Catena A08/48 Kettenschutz</th>\n",
       "      <td>1</td>\n",
       "    </tr>\n",
       "    <tr>\n",
       "      <th>Trekkingsattel Damen</th>\n",
       "      <th>Red Cycling Products City Comfort Saddle Women</th>\n",
       "      <td>1</td>\n",
       "    </tr>\n",
       "    <tr>\n",
       "      <th rowspan=\"5\" valign=\"top\">Felgenbremse Standard</th>\n",
       "      <th>Shimano Alivio BR-T4000 HR V-Brake</th>\n",
       "      <td>1</td>\n",
       "    </tr>\n",
       "    <tr>\n",
       "      <th>Shimano Alivio BR-T4000 VR V-Brake</th>\n",
       "      <td>1</td>\n",
       "    </tr>\n",
       "    <tr>\n",
       "      <th>Shimano BL-T4000 Bremshebel</th>\n",
       "      <td>2</td>\n",
       "    </tr>\n",
       "    <tr>\n",
       "      <th>Clarks CP200 Bremsbeläge</th>\n",
       "      <td>4</td>\n",
       "    </tr>\n",
       "    <tr>\n",
       "      <th>Clarks Stainless Steel Brake Cable</th>\n",
       "      <td>2</td>\n",
       "    </tr>\n",
       "    <tr>\n",
       "      <th rowspan=\"3\" valign=\"top\">Komfort Batteriebeleuchtung</th>\n",
       "      <th>Supernova Airstream 2 Frontlicht</th>\n",
       "      <td>1</td>\n",
       "    </tr>\n",
       "    <tr>\n",
       "      <th>Supernova Airstream Tail Light 2</th>\n",
       "      <td>1</td>\n",
       "    </tr>\n",
       "    <tr>\n",
       "      <th>Leuchtstreifen</th>\n",
       "      <td>2</td>\n",
       "    </tr>\n",
       "    <tr>\n",
       "      <th>Komfort Pedale</th>\n",
       "      <th>Moto Reflex Pedale</th>\n",
       "      <td>2</td>\n",
       "    </tr>\n",
       "  </tbody>\n",
       "</table>\n",
       "</div>"
      ],
      "text/plain": [
       "                                                                                       Anzahl\n",
       "Merkmal                             Einzelteil                                               \n",
       "Damen Trekkingbike                  Radon Scart Light Lady                                  1\n",
       "                                    Cube Universal Fahrradstaender                          1\n",
       "                                    Red Cycling Products Front Tray silver                  1\n",
       "                                    SKS Velo 55 Trekking Schutzbleche                       1\n",
       "Gelaendefederung Extrem             Marzocchi Bomber 58 Federgabel                          1\n",
       "Aventurinrot II metallic            NaN                                                  None\n",
       "Rennradlenker ohne Klingel          Ritchey Comp Streem III Di2 Road Lenker                 1\n",
       "                                    Cube Lenkerband Kork                                    2\n",
       "Felgen Gelaende Standard            Mavic Crossmax 29\" Laufradsatz Intl                     2\n",
       "                                    Ryde Zac 19 DH-C3003 Nabendynamo silver                 1\n",
       "Bereifung Gelaende                  WTB Vigilante Faltreifen 27,5x2,5\" TCS Light Fa...      2\n",
       "                                    NoTubes Universal Tubeless Ventil 35mm MTB              2\n",
       "                                    SCHWALBE No.13 Fahrradschlauch                          2\n",
       "Gelaende Kettenschaltung mechanisch XX1 Eagle DUB                                           1\n",
       "                                    XX1 Eagle Triggershifter                                1\n",
       "                                    X-Horizon, X-Actuation, X-Sync, Roller Bearing ...      1\n",
       "                                    XX1 Eagle Kette                                         1\n",
       "                                    XG-1295 Eagle Kassette                                  1\n",
       "                                    Direct Mount, X-Sync                                    1\n",
       "                                    Horn Catena A08/48 Kettenschutz                         1\n",
       "Trekkingsattel Damen                Red Cycling Products City Comfort Saddle Women          1\n",
       "Felgenbremse Standard               Shimano Alivio BR-T4000 HR V-Brake                      1\n",
       "                                    Shimano Alivio BR-T4000 VR V-Brake                      1\n",
       "                                    Shimano BL-T4000 Bremshebel                             2\n",
       "                                    Clarks CP200 Bremsbeläge                                4\n",
       "                                    Clarks Stainless Steel Brake Cable                      2\n",
       "Komfort Batteriebeleuchtung         Supernova Airstream 2 Frontlicht                        1\n",
       "                                    Supernova Airstream Tail Light 2                        1\n",
       "                                    Leuchtstreifen                                          2\n",
       "Komfort Pedale                      Moto Reflex Pedale                                      2"
      ]
     },
     "execution_count": 17,
     "metadata": {},
     "output_type": "execute_result"
    }
   ],
   "source": [
    "checkConfig(5)"
   ]
  },
  {
   "cell_type": "code",
   "execution_count": null,
   "metadata": {},
   "outputs": [],
   "source": []
  }
 ],
 "metadata": {
  "kernelspec": {
   "display_name": "Python 3",
   "language": "python",
   "name": "python3"
  },
  "language_info": {
   "codemirror_mode": {
    "name": "ipython",
    "version": 3
   },
   "file_extension": ".py",
   "mimetype": "text/x-python",
   "name": "python",
   "nbconvert_exporter": "python",
   "pygments_lexer": "ipython3",
   "version": "3.7.6"
  }
 },
 "nbformat": 4,
 "nbformat_minor": 4
}
