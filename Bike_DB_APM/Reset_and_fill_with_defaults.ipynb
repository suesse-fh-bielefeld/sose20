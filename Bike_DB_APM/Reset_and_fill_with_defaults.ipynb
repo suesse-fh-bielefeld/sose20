{
 "cells": [
  {
   "cell_type": "code",
   "execution_count": null,
   "metadata": {},
   "outputs": [],
   "source": [
    "import db_communication\n",
    "import randValueGenerator"
   ]
  },
  {
   "cell_type": "code",
   "execution_count": null,
   "metadata": {},
   "outputs": [],
   "source": [
    "config = {\n",
    "    'user': 'root',\n",
    "    'password': 'FDS-apm1',\n",
    "    'host': 'min-ifm-xdm.ad.fh-bielefeld.de',\n",
    "    'port': '3306',\n",
    "    'database': 'Fahrradshop'}\n",
    "my_db = db_communication.db_communication(config)"
   ]
  },
  {
   "cell_type": "markdown",
   "metadata": {},
   "source": [
    "Reset the DB. First delete all the tables then init an empty DB"
   ]
  },
  {
   "cell_type": "code",
   "execution_count": null,
   "metadata": {},
   "outputs": [],
   "source": [
    "my_db.reset_all_tables(True)"
   ]
  },
  {
   "cell_type": "markdown",
   "metadata": {},
   "source": [
    "Insert the default values "
   ]
  },
  {
   "cell_type": "code",
   "execution_count": null,
   "metadata": {},
   "outputs": [],
   "source": [
    "import os\n",
    "from path import Path\n",
    "import pandas as pd\n",
    "path = os.getcwd()\n",
    "path_merkmalcluster = Path(path) / \"Bike_DB/merkmalcluster.csv\"\n",
    "path_merkmale = Path(path) / \"Bike_DB/merkmale.csv\"\n",
    "path_einzelteile = Path(path) / \"Bike_DB/einzelteile.csv\"\n",
    "path_arbeitsschrittgruppe = Path(path) / \"Bike_DB/arbeitsschrittgruppe.csv\"\n",
    "path_reihenfolgevorgabe = Path(path) / \"Bike_DB/reihenfolgevorgabe.csv\"\n",
    "path_arbeitsschritt = Path(path) / \"Bike_DB/arbeitsschritt.csv\"\n",
    "\n",
    "df_merkmalcluster = pd.read_csv(path_merkmalcluster, sep=',')\n",
    "df_merkmale = pd.read_csv(path_merkmale, sep=',')\n",
    "df_einzelteile = pd.read_csv(path_einzelteile, sep=',')\n",
    "df_arbeitsschrittgruppe = pd.read_csv(path_arbeitsschrittgruppe, sep=',')\n",
    "df_reihenfolgevorgabe = pd.read_csv(path_reihenfolgevorgabe, sep=',')\n",
    "df_arbeitsschritt = pd.read_csv(path_arbeitsschritt, sep=',')\n",
    "\n",
    "df_merkmalcluster.dropna(axis = 1, inplace=True, how = \"all\")\n",
    "df_merkmale.dropna(axis = 1, inplace=True, how = \"all\")\n",
    "df_einzelteile.dropna(axis = 1, inplace=True, how = \"all\")\n",
    "df_arbeitsschrittgruppe.dropna(axis = 1, inplace=True, how = \"all\")\n",
    "df_arbeitsschritt.fillna(0.0, axis = 1, inplace=True)\n",
    "\n",
    "columns_merkmalcluster = [df_merkmalcluster.columns][0]\n",
    "columns_merkmale = [df_merkmale.columns][0]\n",
    "columns_einzelteile = [df_einzelteile.columns][0]\n",
    "columns_arbeitsschrittgruppe = [df_arbeitsschrittgruppe.columns][0]\n",
    "columns_reihenfolgevorgabe = [df_reihenfolgevorgabe.columns][0]\n",
    "columns_arbeitsschritt = [df_arbeitsschritt.columns][0]\n",
    "\n",
    "column_merkmalcluster = ()\n",
    "column_merkmale = ()\n",
    "column_einzelteile = ()\n",
    "column_arbeitsschrittgruppe = ()\n",
    "column_reihenfolgevorgabe = ()\n",
    "column_arbeitsschritt = ()\n",
    "\n",
    "for i in range(len(columns_merkmalcluster)):\n",
    "     column_merkmalcluster += (columns_merkmalcluster[i],)\n",
    "\n",
    "for i in range(len(columns_merkmale)):\n",
    "     column_merkmale += (columns_merkmale[i],)\n",
    "\n",
    "for i in range(len(columns_einzelteile)):\n",
    "     column_einzelteile += (columns_einzelteile[i],)\n",
    "        \n",
    "for i in range(len(columns_arbeitsschrittgruppe)):\n",
    "     column_arbeitsschrittgruppe += (columns_arbeitsschrittgruppe[i],)\n",
    "        \n",
    "for i in range(len(columns_reihenfolgevorgabe)):\n",
    "     column_reihenfolgevorgabe += (columns_reihenfolgevorgabe[i],)\n",
    "        \n",
    "for i in range(len(columns_arbeitsschritt)):\n",
    "     column_arbeitsschritt += (columns_arbeitsschritt[i],)\n",
    "\n",
    "data_merkmalcluster = df_merkmalcluster.values.tolist()\n",
    "data_merkmale = df_merkmale.values.tolist()\n",
    "data_einzelteile = df_einzelteile.values.tolist()\n",
    "data_arbeitsschrittgruppe = df_arbeitsschrittgruppe.values.tolist()\n",
    "data_reihenfolgevorgabe = df_reihenfolgevorgabe.values.tolist()\n",
    "data_arbeitsschritt = df_arbeitsschritt.values.tolist()\n",
    "\n",
    "\n",
    "for i in range(0,len(data_merkmalcluster)):\n",
    "    data_merkmalcluster_as_dict = {}\n",
    "    for j in range(len(column_merkmalcluster)):\n",
    "            data_merkmalcluster_as_dict[column_merkmalcluster[j]] = data_merkmalcluster[i][j]\n",
    "    my_db.insert_data(\"Merkmalcluster\", data_merkmalcluster_as_dict)\n",
    "\n",
    "for i in range(0,len(data_merkmale)):\n",
    "    data_merkmale_as_dict = {}\n",
    "    for j in range(len(column_merkmale)):\n",
    "            data_merkmale_as_dict[column_merkmale[j]] = data_merkmale[i][j]\n",
    "    my_db.insert_data(\"Merkmale\", data_merkmale_as_dict)\n",
    "\n",
    "for i in range(0,len(data_einzelteile)):\n",
    "    data_einzelteile_as_dict = {}\n",
    "    for j in range(len(column_einzelteile)):\n",
    "            data_einzelteile_as_dict[column_einzelteile[j]] = data_einzelteile[i][j]\n",
    "    my_db.insert_data(\"Einzelteile\", data_einzelteile_as_dict)\n",
    "    \n",
    "for i in range(0,len(data_arbeitsschrittgruppe)):\n",
    "    data_arbeitsschrittgruppe_as_dict = {}\n",
    "    for j in range(len(column_arbeitsschrittgruppe)):\n",
    "            data_arbeitsschrittgruppe_as_dict[column_arbeitsschrittgruppe[j]] = data_arbeitsschrittgruppe[i][j]\n",
    "    my_db.insert_data(\"Arbeitsschrittgruppe\", data_arbeitsschrittgruppe_as_dict)\n",
    "    \n",
    "for i in range(0,len(data_reihenfolgevorgabe)):\n",
    "    data_reihenfolgevorgabe_as_dict = {}\n",
    "    for j in range(len(column_reihenfolgevorgabe)):\n",
    "            data_reihenfolgevorgabe_as_dict[column_reihenfolgevorgabe[j]] = data_reihenfolgevorgabe[i][j]\n",
    "    my_db.insert_data(\"Reihenfolgevorgabe\", data_reihenfolgevorgabe_as_dict)\n",
    "    \n",
    "for i in range(0,len(data_arbeitsschritt)):\n",
    "    data_arbeitsschritt_as_dict = {}\n",
    "    for j in range(len(column_arbeitsschritt)):\n",
    "            data_arbeitsschritt_as_dict[column_arbeitsschritt[j]] = data_arbeitsschritt[i][j]\n",
    "    my_db.insert_data(\"Arbeitsschritt\", data_arbeitsschritt_as_dict)"
   ]
  },
  {
   "cell_type": "markdown",
   "metadata": {},
   "source": [
    "Fill customer and order tabel"
   ]
  },
  {
   "cell_type": "code",
   "execution_count": null,
   "metadata": {},
   "outputs": [],
   "source": [
    "randValueGenerator.fillCustomerTable(5,my_db)"
   ]
  },
  {
   "cell_type": "code",
   "execution_count": null,
   "metadata": {},
   "outputs": [],
   "source": [
    "randValueGenerator.fillConfigAndOrderTable(5,my_db)"
   ]
  },
  {
   "cell_type": "markdown",
   "metadata": {},
   "source": [
    "Close the connection"
   ]
  },
  {
   "cell_type": "code",
   "execution_count": null,
   "metadata": {},
   "outputs": [],
   "source": [
    "my_db.close()"
   ]
  }
 ],
 "metadata": {
  "kernelspec": {
   "display_name": "Python 3",
   "language": "python",
   "name": "python3"
  },
  "language_info": {
   "codemirror_mode": {
    "name": "ipython",
    "version": 3
   },
   "file_extension": ".py",
   "mimetype": "text/x-python",
   "name": "python",
   "nbconvert_exporter": "python",
   "pygments_lexer": "ipython3",
   "version": "3.7.6"
  }
 },
 "nbformat": 4,
 "nbformat_minor": 4
}
