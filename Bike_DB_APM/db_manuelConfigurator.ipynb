{
 "cells": [
  {
   "cell_type": "code",
   "execution_count": 1,
   "metadata": {},
   "outputs": [],
   "source": [
    "from db_communication import db_communication\n",
    "import numpy as np\n",
    "import pandas as pd\n",
    "from datetime import datetime\n",
    "from datetime import timedelta\n",
    "import ipywidgets as widgets\n",
    "from IPython.display import Javascript\n",
    "def run_all_bellow(ev):\n",
    "    display(Javascript('IPython.notebook.execute_cells_below()'))"
   ]
  },
  {
   "cell_type": "code",
   "execution_count": 2,
   "metadata": {},
   "outputs": [
    {
     "name": "stdout",
     "output_type": "stream",
     "text": [
      "Successfully connected.\n"
     ]
    }
   ],
   "source": [
    "config = {\n",
    "    'user': 'root',\n",
    "    'password': 'FDS-apm1',\n",
    "    'host': 'min-ifm-xdm.ad.fh-bielefeld.de',\n",
    "    'port': '3306',\n",
    "    'database': 'Fahrradshop' \n",
    "}\n",
    "my_db = db_communication(config)"
   ]
  },
  {
   "cell_type": "code",
   "execution_count": 3,
   "metadata": {},
   "outputs": [],
   "source": [
    "customer_df = my_db.get_table('Kunde')\n",
    "cluster_df = my_db.get_table('Merkmalcluster')\n",
    "features_df = my_db.get_table('Merkmale')\n",
    "order_df = my_db.get_table(\"Auftrag\")\n",
    "config_df = my_db.get_table(\"Konfiguration\")"
   ]
  },
  {
   "cell_type": "markdown",
   "metadata": {},
   "source": [
    "__Initialize widgets__"
   ]
  },
  {
   "cell_type": "code",
   "execution_count": 4,
   "metadata": {},
   "outputs": [],
   "source": [
    "# customer login/create\n",
    "rand_customer = customer_df.sample() #init\n",
    "widget_customer_lst = [\n",
    "    widgets.Text(\n",
    "        value=rand_customer['Vorname'].values[0],\n",
    "        placeholder='Type something',\n",
    "        description='Vorname:',\n",
    "        disabled=False\n",
    "    ),\n",
    "    widgets.Text(\n",
    "        value=rand_customer['Name'].values[0],\n",
    "        placeholder='Type something',\n",
    "        description='Name:',\n",
    "        disabled=False\n",
    "    ),\n",
    "    widgets.Text(\n",
    "        value=rand_customer['Mail'].values[0],\n",
    "        placeholder='Type something',\n",
    "        description='E-Mail:',\n",
    "        disabled=False\n",
    "    )\n",
    "]\n",
    "options_radioButtons = widgets.RadioButtons(\n",
    "    options=['Login', 'Create new account'],\n",
    "    description='Options:',\n",
    "    disabled=False\n",
    ")\n",
    "# configurator (choose features for each cluster)\n",
    "widget_config_lst = []\n",
    "for cluster_name,cluster in cluster_df.iterrows():\n",
    "    features = features_df[features_df['Merkmalcluster']==int(cluster.values[0])]['Bezeichnung']\n",
    "    widget = widgets.Dropdown(\n",
    "        options=features,\n",
    "        description=cluster.values[1],\n",
    "        disabled=False\n",
    "    )\n",
    "    widget_config_lst.append(widget)"
   ]
  },
  {
   "cell_type": "markdown",
   "metadata": {},
   "source": [
    "# Bike Configurator"
   ]
  },
  {
   "cell_type": "code",
   "execution_count": 5,
   "metadata": {},
   "outputs": [
    {
     "data": {
      "application/vnd.jupyter.widget-view+json": {
       "model_id": "6233e3ae0bb4423e80865d44dececad9",
       "version_major": 2,
       "version_minor": 0
      },
      "text/plain": [
       "Text(value='Clingerman', description='Vorname:', placeholder='Type something')"
      ]
     },
     "metadata": {},
     "output_type": "display_data"
    },
    {
     "data": {
      "application/vnd.jupyter.widget-view+json": {
       "model_id": "318eb642e9ff4c07b865bfb6d87464c2",
       "version_major": 2,
       "version_minor": 0
      },
      "text/plain": [
       "Text(value='Hilton', description='Name:', placeholder='Type something')"
      ]
     },
     "metadata": {},
     "output_type": "display_data"
    },
    {
     "data": {
      "application/vnd.jupyter.widget-view+json": {
       "model_id": "c431ccc4306742b199ce83b46ad1b612",
       "version_major": 2,
       "version_minor": 0
      },
      "text/plain": [
       "Text(value='hilton.clingerman@gmail.com', description='E-Mail:', placeholder='Type something')"
      ]
     },
     "metadata": {},
     "output_type": "display_data"
    },
    {
     "data": {
      "application/vnd.jupyter.widget-view+json": {
       "model_id": "c16daa3e370a45c4989e331ffdc2853e",
       "version_major": 2,
       "version_minor": 0
      },
      "text/plain": [
       "RadioButtons(description='Options:', options=('Login', 'Create new account'), value='Login')"
      ]
     },
     "metadata": {},
     "output_type": "display_data"
    },
    {
     "name": "stdout",
     "output_type": "stream",
     "text": [
      "Konfigurieren Sie Ihr Fahrrad:\n"
     ]
    },
    {
     "data": {
      "application/vnd.jupyter.widget-view+json": {
       "model_id": "1ed413eac409460fa56a7d879cbcc365",
       "version_major": 2,
       "version_minor": 0
      },
      "text/plain": [
       "Dropdown(description='Rahmen', options=('Herren Citybike', 'Herren Trekkingbike', 'Herren Trekking Carbon', 'U…"
      ]
     },
     "metadata": {},
     "output_type": "display_data"
    },
    {
     "data": {
      "application/vnd.jupyter.widget-view+json": {
       "model_id": "6a9bc9a589af42499451dccab2a4f95c",
       "version_major": 2,
       "version_minor": 0
      },
      "text/plain": [
       "Dropdown(description='Federung', options=('Federung Standard', 'Trekkingfederung Standard', 'Trekkingfederung …"
      ]
     },
     "metadata": {},
     "output_type": "display_data"
    },
    {
     "data": {
      "application/vnd.jupyter.widget-view+json": {
       "model_id": "fa1984c60f0a4d859c7f0ba597c5cf4a",
       "version_major": 2,
       "version_minor": 0
      },
      "text/plain": [
       "Dropdown(description='Lackierung', options=('Schwarz uni', 'Weiss uni', 'Blau uni', 'Schwarz metallic', 'Weiss…"
      ]
     },
     "metadata": {},
     "output_type": "display_data"
    },
    {
     "data": {
      "application/vnd.jupyter.widget-view+json": {
       "model_id": "9cca6c61319f4b69a6c612d535579bd5",
       "version_major": 2,
       "version_minor": 0
      },
      "text/plain": [
       "Dropdown(description='Lenker', options=('Lenker Standard', 'Lenker Komfort', 'Lenker Retro', 'Rennradlenker', …"
      ]
     },
     "metadata": {},
     "output_type": "display_data"
    },
    {
     "data": {
      "application/vnd.jupyter.widget-view+json": {
       "model_id": "602735664805427b9f19d25ea5652dfa",
       "version_major": 2,
       "version_minor": 0
      },
      "text/plain": [
       "Dropdown(description='Felgen', options=('Felgen Standard', 'Felgen Trekking', 'Rennradfelgen Standard', 'Rennr…"
      ]
     },
     "metadata": {},
     "output_type": "display_data"
    },
    {
     "data": {
      "application/vnd.jupyter.widget-view+json": {
       "model_id": "1c51897fea8942ed92808c7564ed347b",
       "version_major": 2,
       "version_minor": 0
      },
      "text/plain": [
       "Dropdown(description='Radbereifung', options=('Bereifung Standard', 'Bereifung Komfort', 'Bereifung City', 'Be…"
      ]
     },
     "metadata": {},
     "output_type": "display_data"
    },
    {
     "data": {
      "application/vnd.jupyter.widget-view+json": {
       "model_id": "b35fd75edc864a0f87322e1a6067bac2",
       "version_major": 2,
       "version_minor": 0
      },
      "text/plain": [
       "Dropdown(description='Gangschaltung', options=('Standard Kettenschaltung mechanisch', 'Standard Kettenschaltun…"
      ]
     },
     "metadata": {},
     "output_type": "display_data"
    },
    {
     "data": {
      "application/vnd.jupyter.widget-view+json": {
       "model_id": "d82fd0d633a84d7bafcf690a33b0f775",
       "version_major": 2,
       "version_minor": 0
      },
      "text/plain": [
       "Dropdown(description='Sattel', options=('Standardsattel Herren', 'Standardsattel Damen', 'Trekkingsattel Herre…"
      ]
     },
     "metadata": {},
     "output_type": "display_data"
    },
    {
     "data": {
      "application/vnd.jupyter.widget-view+json": {
       "model_id": "3271295ae90a482995844f4a811f828f",
       "version_major": 2,
       "version_minor": 0
      },
      "text/plain": [
       "Dropdown(description='Bremsen', options=('Felgenbremse Standard', 'Felgenbremse Trekking', 'Scheibenbremse Sta…"
      ]
     },
     "metadata": {},
     "output_type": "display_data"
    },
    {
     "data": {
      "application/vnd.jupyter.widget-view+json": {
       "model_id": "9e6adf075e034a08b127cda4e741f4b7",
       "version_major": 2,
       "version_minor": 0
      },
      "text/plain": [
       "Dropdown(description='Beleuchtung', options=('Standard Batteriebeleuchtung', 'Komfort Batteriebeleuchtung', 'S…"
      ]
     },
     "metadata": {},
     "output_type": "display_data"
    },
    {
     "data": {
      "application/vnd.jupyter.widget-view+json": {
       "model_id": "0d90429979d34c638d833644d1473bce",
       "version_major": 2,
       "version_minor": 0
      },
      "text/plain": [
       "Dropdown(description='Pedalen', options=('Standard Pedale', 'Trekking Pedale', 'Sport Pedale', 'Komfort Pedale…"
      ]
     },
     "metadata": {},
     "output_type": "display_data"
    },
    {
     "data": {
      "application/vnd.jupyter.widget-view+json": {
       "model_id": "9e7bbe5fcb7d425aa7300425cb3691a4",
       "version_major": 2,
       "version_minor": 0
      },
      "text/plain": [
       "Button(description='Auftrag abschließen', style=ButtonStyle())"
      ]
     },
     "metadata": {},
     "output_type": "display_data"
    }
   ],
   "source": [
    "# customer login/create\n",
    "for widget in widget_customer_lst:\n",
    "    display(widget)\n",
    "display(options_radioButtons)\n",
    "# configurator (choose features for each cluster)\n",
    "print(\"Konfigurieren Sie Ihr Fahrrad:\")\n",
    "for widget in widget_config_lst:\n",
    "    display(widget)\n",
    "# run all below\n",
    "button = widgets.Button(description=\"Auftrag abschließen\")\n",
    "button.on_click(run_all_bellow)\n",
    "display(button)"
   ]
  },
  {
   "cell_type": "markdown",
   "metadata": {},
   "source": [
    "## actions to fill the database"
   ]
  },
  {
   "cell_type": "markdown",
   "metadata": {},
   "source": [
    "__Login / New Account__"
   ]
  },
  {
   "cell_type": "code",
   "execution_count": null,
   "metadata": {
    "scrolled": true
   },
   "outputs": [],
   "source": [
    "# for login -> check if customer exists and remind customer_id\n",
    "if options_radioButtons.value == 'Login':\n",
    "    customer_login = customer_df[(customer_df['Vorname']==widget_customer_lst[0].value) & \n",
    "                                (customer_df['Name']==widget_customer_lst[1].value) &\n",
    "                                (customer_df['Mail']==widget_customer_lst[2].value)]\n",
    "    if len(customer_login) != 0:\n",
    "        print(\"Login erfolgreich!\")\n",
    "    else:\n",
    "        raise ValueError(widget_customer_lst[0].value + \" \" + widget_customer_lst[1].value + \" mit der E-Mail-Adresse \"+\n",
    "                         widget_customer_lst[2].value + \" existiert nicht in der Kunden-Tabelle\")\n",
    "    customer_id = customer_login['KundenNr'].astype(int).values[0]"
   ]
  },
  {
   "cell_type": "code",
   "execution_count": null,
   "metadata": {},
   "outputs": [],
   "source": [
    "# for create new account -> put text input into the database and remind customer_id\n",
    "if options_radioButtons.value == 'Create new account':\n",
    "    customer_id = customer_df['KundenNr'].astype(int).max() + 1\n",
    "    customer_keys = customer_df.keys().values\n",
    "    customer_values = customer_id, widget_customer_lst[1].value, widget_customer_lst[0].value, widget_customer_lst[2].value\n",
    "    customer_dict = dict(zip(customer_keys,customer_values))\n",
    "    my_db.insert_data('Kunde',customer_dict)\n",
    "    # update local customer_df\n",
    "    customer_df = my_db.get_table('Kunde')"
   ]
  },
  {
   "cell_type": "markdown",
   "metadata": {},
   "source": [
    "__Add order__"
   ]
  },
  {
   "cell_type": "code",
   "execution_count": null,
   "metadata": {},
   "outputs": [],
   "source": [
    "# after determining the customer_id, the order can be added\n",
    "# values\n",
    "order_id = order_df['AuftrNr'].max() + 1\n",
    "today = datetime.today()\n",
    "order_date = today.strftime(\"%Y-%m-%d\")\n",
    "delivery_date = (today + timedelta(days=14)).strftime(\"%Y-%m-%d\")\n",
    "#customer_id\n",
    "\n",
    "order_keys = order_df.keys().values\n",
    "order_values = order_id, order_date, delivery_date, customer_id\n",
    "order_dict = dict(zip(order_keys,order_values))\n",
    "my_db.insert_data('Auftrag',order_dict)\n",
    "# update local customer_df\n",
    "order_df = my_db.get_table('Auftrag')"
   ]
  },
  {
   "cell_type": "markdown",
   "metadata": {},
   "source": [
    "__Add configuration__"
   ]
  },
  {
   "cell_type": "code",
   "execution_count": null,
   "metadata": {},
   "outputs": [],
   "source": [
    "# after determining the order_id, the configuration can be added\n",
    "for idx,widget in enumerate(widget_config_lst):\n",
    "    config_id = order_id * 100 + idx\n",
    "    #order_id\n",
    "    feature_id = features_df[features_df['Bezeichnung']==widget.value]['MerkmalNr'].values[0]\n",
    "    \n",
    "    config_keys = config_df.keys().values\n",
    "    config_values = config_id, order_id, feature_id\n",
    "    config_dict = dict(zip(config_keys,config_values))\n",
    "    my_db.insert_data('Konfiguration',config_dict)\n",
    "    # update local customer_df\n",
    "    config_df = my_db.get_table('Konfiguration')"
   ]
  }
 ],
 "metadata": {
  "kernelspec": {
   "display_name": "Python 3",
   "language": "python",
   "name": "python3"
  },
  "language_info": {
   "codemirror_mode": {
    "name": "ipython",
    "version": 3
   },
   "file_extension": ".py",
   "mimetype": "text/x-python",
   "name": "python",
   "nbconvert_exporter": "python",
   "pygments_lexer": "ipython3",
   "version": "3.7.6"
  }
 },
 "nbformat": 4,
 "nbformat_minor": 4
}
