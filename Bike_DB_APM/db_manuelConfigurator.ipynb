{
 "cells": [
  {
   "cell_type": "code",
   "execution_count": 1,
   "metadata": {},
   "outputs": [],
   "source": [
    "from db_communication import db_communication\n",
    "import numpy as np\n",
    "import pandas as pd\n",
    "from datetime import datetime\n",
    "from datetime import timedelta\n",
    "import ipywidgets as widgets\n",
    "from IPython.display import Javascript\n",
    "def run_all_bellow(ev):\n",
    "    display(Javascript('IPython.notebook.execute_cells_below()'))"
   ]
  },
  {
   "cell_type": "code",
   "execution_count": 2,
   "metadata": {},
   "outputs": [
    {
     "name": "stdout",
     "output_type": "stream",
     "text": [
      "Successfully connected.\n"
     ]
    }
   ],
   "source": [
    "config = {\n",
    "    'user': 'root',\n",
    "    'password': 'FDS-apm1',\n",
    "    'host': 'min-ifm-xdm.ad.fh-bielefeld.de',\n",
    "    'port': '3306',\n",
    "    'database': 'NeueDB' \n",
    "}\n",
    "my_db = db_communication(config)"
   ]
  },
  {
   "cell_type": "code",
   "execution_count": 3,
   "metadata": {},
   "outputs": [],
   "source": [
    "customer_df = my_db.get_table('Kunde')\n",
    "cluster_df = my_db.get_table('Merkmalcluster')\n",
    "features_df = my_db.get_table('Merkmale')\n",
    "order_df = my_db.get_table(\"Auftrag\")\n",
    "config_df = my_db.get_table(\"Konfiguration\")"
   ]
  },
  {
   "cell_type": "markdown",
   "metadata": {},
   "source": [
    "__Initialize widgets__"
   ]
  },
  {
   "cell_type": "code",
   "execution_count": 4,
   "metadata": {},
   "outputs": [],
   "source": [
    "# customer login/create\n",
    "rand_customer = customer_df.sample() #init\n",
    "widget_customer_lst = [\n",
    "    widgets.Text(\n",
    "        value=rand_customer['Vorname'].values[0],\n",
    "        placeholder='Type something',\n",
    "        description='Vorname:',\n",
    "        disabled=False\n",
    "    ),\n",
    "    widgets.Text(\n",
    "        value=rand_customer['Name'].values[0],\n",
    "        placeholder='Type something',\n",
    "        description='Name:',\n",
    "        disabled=False\n",
    "    ),\n",
    "    widgets.Text(\n",
    "        value=rand_customer['Mail'].values[0],\n",
    "        placeholder='Type something',\n",
    "        description='E-Mail:',\n",
    "        disabled=False\n",
    "    )\n",
    "]\n",
    "options_radioButtons = widgets.RadioButtons(\n",
    "    options=['Login', 'Create new account'],\n",
    "    description='Options:',\n",
    "    disabled=False\n",
    ")\n",
    "# configurator (choose features for each cluster)\n",
    "widget_config_lst = []\n",
    "for cluster_name,cluster in cluster_df.iterrows():\n",
    "    features = features_df[features_df['Merkmalcluster']==int(cluster.values[0])]['Bezeichnung']\n",
    "    widget = widgets.Dropdown(\n",
    "        options=features,\n",
    "        description=cluster.values[1],\n",
    "        disabled=False\n",
    "    )\n",
    "    widget_config_lst.append(widget)"
   ]
  },
  {
   "cell_type": "markdown",
   "metadata": {},
   "source": [
    "# Bike Configurator"
   ]
  },
  {
   "cell_type": "code",
   "execution_count": 11,
   "metadata": {},
   "outputs": [
    {
     "data": {
      "application/javascript": [
       "IPython.notebook.execute_cells_below()"
      ],
      "text/plain": [
       "<IPython.core.display.Javascript object>"
      ]
     },
     "metadata": {},
     "output_type": "display_data"
    },
    {
     "data": {
      "application/vnd.jupyter.widget-view+json": {
       "model_id": "477514b2bc324c7d97b45f571a4ddefb",
       "version_major": 2,
       "version_minor": 0
      },
      "text/plain": [
       "Text(value='Harald', description='Vorname:', placeholder='Type something')"
      ]
     },
     "metadata": {},
     "output_type": "display_data"
    },
    {
     "data": {
      "application/vnd.jupyter.widget-view+json": {
       "model_id": "8378a339212149fe9a6115663eadef2a",
       "version_major": 2,
       "version_minor": 0
      },
      "text/plain": [
       "Text(value='Honold', description='Name:', placeholder='Type something')"
      ]
     },
     "metadata": {},
     "output_type": "display_data"
    },
    {
     "data": {
      "application/vnd.jupyter.widget-view+json": {
       "model_id": "62119f87185949e89b6690711880a710",
       "version_major": 2,
       "version_minor": 0
      },
      "text/plain": [
       "Text(value='harry@telekom.de', description='E-Mail:', placeholder='Type something')"
      ]
     },
     "metadata": {},
     "output_type": "display_data"
    },
    {
     "data": {
      "application/vnd.jupyter.widget-view+json": {
       "model_id": "60393e85e0ff4478a4a92a71e92773ee",
       "version_major": 2,
       "version_minor": 0
      },
      "text/plain": [
       "RadioButtons(description='Options:', index=1, options=('Login', 'Create new account'), value='Create new accou…"
      ]
     },
     "metadata": {},
     "output_type": "display_data"
    },
    {
     "name": "stdout",
     "output_type": "stream",
     "text": [
      "Konfigurieren Sie Ihr Fahrrad:\n"
     ]
    },
    {
     "data": {
      "application/vnd.jupyter.widget-view+json": {
       "model_id": "171b6db35b8744629d682f7a3d27759e",
       "version_major": 2,
       "version_minor": 0
      },
      "text/plain": [
       "Dropdown(description='Rahmen', options=('Herren Citybike', 'Herren Trekkingbike', 'Herren Trekking Carbon', 'U…"
      ]
     },
     "metadata": {},
     "output_type": "display_data"
    },
    {
     "data": {
      "application/vnd.jupyter.widget-view+json": {
       "model_id": "9c38c3492bd04fec97cc70b804b3d0c7",
       "version_major": 2,
       "version_minor": 0
      },
      "text/plain": [
       "Dropdown(description='Federung', index=4, options=('Federung Standard', 'Trekkingfederung Standard', 'Trekking…"
      ]
     },
     "metadata": {},
     "output_type": "display_data"
    },
    {
     "data": {
      "application/vnd.jupyter.widget-view+json": {
       "model_id": "237f4463a035426380d77f9a2c17b80c",
       "version_major": 2,
       "version_minor": 0
      },
      "text/plain": [
       "Dropdown(description='Lackierung', index=7, options=('Schwarz uni', 'Weiss uni', 'Blau uni', 'Schwarz metallic…"
      ]
     },
     "metadata": {},
     "output_type": "display_data"
    },
    {
     "data": {
      "application/vnd.jupyter.widget-view+json": {
       "model_id": "cba1328bbcd9497c8c6851d475d3957c",
       "version_major": 2,
       "version_minor": 0
      },
      "text/plain": [
       "Dropdown(description='Lenker', options=('Lenker Standard', 'Lenker Komfort', 'Lenker Retro', 'Rennradlenker', …"
      ]
     },
     "metadata": {},
     "output_type": "display_data"
    },
    {
     "data": {
      "application/vnd.jupyter.widget-view+json": {
       "model_id": "30ccf6daedcd4b76b438b75f0f1c8a97",
       "version_major": 2,
       "version_minor": 0
      },
      "text/plain": [
       "Dropdown(description='Felgen', index=1, options=('Felgen Standard', 'Felgen Trekking', 'Rennradfelgen Standard…"
      ]
     },
     "metadata": {},
     "output_type": "display_data"
    },
    {
     "data": {
      "application/vnd.jupyter.widget-view+json": {
       "model_id": "f43ef48f83ef4202b145e7a1d9213703",
       "version_major": 2,
       "version_minor": 0
      },
      "text/plain": [
       "Dropdown(description='Radbereifung', index=3, options=('Bereifung Standard', 'Bereifung Komfort', 'Bereifung C…"
      ]
     },
     "metadata": {},
     "output_type": "display_data"
    },
    {
     "data": {
      "application/vnd.jupyter.widget-view+json": {
       "model_id": "270201e05cb44fe4abc05f3475c3e9cf",
       "version_major": 2,
       "version_minor": 0
      },
      "text/plain": [
       "Dropdown(description='Gangschaltung', index=5, options=('Standard Kettenschaltung mechanisch', 'Standard Kette…"
      ]
     },
     "metadata": {},
     "output_type": "display_data"
    },
    {
     "data": {
      "application/vnd.jupyter.widget-view+json": {
       "model_id": "98405aa4020f4385b2c61eaf1b28eef9",
       "version_major": 2,
       "version_minor": 0
      },
      "text/plain": [
       "Dropdown(description='Sattel', options=('Standardsattel Herren', 'Standardsattel Damen', 'Trekkingsattel Herre…"
      ]
     },
     "metadata": {},
     "output_type": "display_data"
    },
    {
     "data": {
      "application/vnd.jupyter.widget-view+json": {
       "model_id": "0a495f3527dd4416a0909bc91b980479",
       "version_major": 2,
       "version_minor": 0
      },
      "text/plain": [
       "Dropdown(description='Bremsen', index=2, options=('Felgenbremse Standard', 'Felgenbremse Trekking', 'Scheibenb…"
      ]
     },
     "metadata": {},
     "output_type": "display_data"
    },
    {
     "data": {
      "application/vnd.jupyter.widget-view+json": {
       "model_id": "288d05bb263d4879a17c2dfb780711b2",
       "version_major": 2,
       "version_minor": 0
      },
      "text/plain": [
       "Dropdown(description='Beleuchtung', options=('Standard Batteriebeleuchtung', 'Komfort Batteriebeleuchtung', 'S…"
      ]
     },
     "metadata": {},
     "output_type": "display_data"
    },
    {
     "data": {
      "application/vnd.jupyter.widget-view+json": {
       "model_id": "35eaecfb097a47d1a0d5715a173af9e3",
       "version_major": 2,
       "version_minor": 0
      },
      "text/plain": [
       "Dropdown(description='Pedalen', index=1, options=('Standard Pedale', 'Trekking Pedale', 'Sport Pedale', 'Komfo…"
      ]
     },
     "metadata": {},
     "output_type": "display_data"
    },
    {
     "data": {
      "application/vnd.jupyter.widget-view+json": {
       "model_id": "0c17e5954fac45338cb6d8b0b2541353",
       "version_major": 2,
       "version_minor": 0
      },
      "text/plain": [
       "Button(description='Auftrag abschließen', style=ButtonStyle())"
      ]
     },
     "metadata": {},
     "output_type": "display_data"
    }
   ],
   "source": [
    "# customer login/create\n",
    "for widget in widget_customer_lst:\n",
    "    display(widget)\n",
    "display(options_radioButtons)\n",
    "# configurator (choose features for each cluster)\n",
    "print(\"Konfigurieren Sie Ihr Fahrrad:\")\n",
    "for widget in widget_config_lst:\n",
    "    display(widget)\n",
    "# run all below\n",
    "button = widgets.Button(description=\"Auftrag abschließen\")\n",
    "button.on_click(run_all_bellow)\n",
    "display(button)"
   ]
  },
  {
   "cell_type": "markdown",
   "metadata": {},
   "source": [
    "## actions to fill the database"
   ]
  },
  {
   "cell_type": "markdown",
   "metadata": {},
   "source": [
    "__Login / New Account__"
   ]
  },
  {
   "cell_type": "code",
   "execution_count": 12,
   "metadata": {
    "scrolled": true
   },
   "outputs": [],
   "source": [
    "# for login -> check if customer exists and remind customer_id\n",
    "if options_radioButtons.value == 'Login':\n",
    "    customer_login = customer_df[(customer_df['Vorname']==widget_customer_lst[0].value) & \n",
    "                                (customer_df['Name']==widget_customer_lst[1].value) &\n",
    "                                (customer_df['Mail']==widget_customer_lst[2].value)]\n",
    "    if len(customer_login) != 0:\n",
    "        print(\"Login erfolgreich!\")\n",
    "    else:\n",
    "        raise ValueError(widget_customer_lst[0].value + \" \" + widget_customer_lst[1].value + \" mit der E-Mail-Adresse \"+\n",
    "                         widget_customer_lst[2].value + \" existiert nicht in der Kunden-Tabelle\")\n",
    "    customer_id = customer_login['KundenNr'].astype(int).values[0]"
   ]
  },
  {
   "cell_type": "code",
   "execution_count": 13,
   "metadata": {},
   "outputs": [
    {
     "name": "stdout",
     "output_type": "stream",
     "text": [
      "INSERT INTO `Kunde` (`KundenNr`, `Name`, `Vorname`, `Mail`) VALUES ('7', 'Honold', 'Harald', 'harry@telekom.de');\n"
     ]
    }
   ],
   "source": [
    "# for create new account -> put text input into the database and remind customer_id\n",
    "if options_radioButtons.value == 'Create new account':\n",
    "    customer_id = customer_df['KundenNr'].astype(int).max() + 1\n",
    "    customer_keys = customer_df.keys().values\n",
    "    customer_values = customer_id, widget_customer_lst[1].value, widget_customer_lst[0].value, widget_customer_lst[2].value\n",
    "    customer_dict = dict(zip(customer_keys,customer_values))\n",
    "    my_db.insert_data('Kunde',customer_dict)\n",
    "    # update local customer_df\n",
    "    customer_df = my_db.get_table('Kunde')"
   ]
  },
  {
   "cell_type": "markdown",
   "metadata": {},
   "source": [
    "__Add order__"
   ]
  },
  {
   "cell_type": "code",
   "execution_count": 14,
   "metadata": {},
   "outputs": [
    {
     "name": "stdout",
     "output_type": "stream",
     "text": [
      "INSERT INTO `Auftrag` (`AuftrNr`, `Bestelldatum`, `Lieferdatum`, `KundenNr`) VALUES ('8', '2020-06-16', '2020-06-30', '7');\n"
     ]
    }
   ],
   "source": [
    "# after determining the customer_id, the order can be added\n",
    "# values\n",
    "order_id = order_df['AuftrNr'].max() + 1\n",
    "today = datetime.today()\n",
    "order_date = today.strftime(\"%Y-%m-%d\")\n",
    "delivery_date = (today + timedelta(days=14)).strftime(\"%Y-%m-%d\")\n",
    "#customer_id\n",
    "\n",
    "order_keys = order_df.keys().values\n",
    "order_values = order_id, order_date, delivery_date, customer_id\n",
    "order_dict = dict(zip(order_keys,order_values))\n",
    "my_db.insert_data('Auftrag',order_dict)\n",
    "# update local customer_df\n",
    "order_df = my_db.get_table('Auftrag')"
   ]
  },
  {
   "cell_type": "markdown",
   "metadata": {},
   "source": [
    "__Add configuration__"
   ]
  },
  {
   "cell_type": "code",
   "execution_count": 15,
   "metadata": {},
   "outputs": [
    {
     "name": "stdout",
     "output_type": "stream",
     "text": [
      "INSERT INTO `Konfiguration` (`KonfigNr`, `AuftragNr`, `MerkmalNr`) VALUES ('800', '8', '100001');\n",
      "INSERT INTO `Konfiguration` (`KonfigNr`, `AuftragNr`, `MerkmalNr`) VALUES ('801', '8', '200005');\n",
      "INSERT INTO `Konfiguration` (`KonfigNr`, `AuftragNr`, `MerkmalNr`) VALUES ('802', '8', '300008');\n",
      "INSERT INTO `Konfiguration` (`KonfigNr`, `AuftragNr`, `MerkmalNr`) VALUES ('803', '8', '400001');\n",
      "INSERT INTO `Konfiguration` (`KonfigNr`, `AuftragNr`, `MerkmalNr`) VALUES ('804', '8', '500002');\n",
      "INSERT INTO `Konfiguration` (`KonfigNr`, `AuftragNr`, `MerkmalNr`) VALUES ('805', '8', '600004');\n",
      "INSERT INTO `Konfiguration` (`KonfigNr`, `AuftragNr`, `MerkmalNr`) VALUES ('806', '8', '700006');\n",
      "INSERT INTO `Konfiguration` (`KonfigNr`, `AuftragNr`, `MerkmalNr`) VALUES ('807', '8', '800001');\n",
      "INSERT INTO `Konfiguration` (`KonfigNr`, `AuftragNr`, `MerkmalNr`) VALUES ('808', '8', '900003');\n",
      "INSERT INTO `Konfiguration` (`KonfigNr`, `AuftragNr`, `MerkmalNr`) VALUES ('809', '8', '1000001');\n",
      "INSERT INTO `Konfiguration` (`KonfigNr`, `AuftragNr`, `MerkmalNr`) VALUES ('810', '8', '1100002');\n"
     ]
    }
   ],
   "source": [
    "# after determining the order_id, the configuration can be added\n",
    "for idx,widget in enumerate(widget_config_lst):\n",
    "    config_id = order_id * 100 + idx\n",
    "    #order_id\n",
    "    feature_id = features_df[features_df['Bezeichnung']==widget.value]['MerkmalNr'].values[0]\n",
    "    \n",
    "    config_keys = config_df.keys().values\n",
    "    config_values = config_id, order_id, feature_id\n",
    "    config_dict = dict(zip(config_keys,config_values))\n",
    "    my_db.insert_data('Konfiguration',config_dict)\n",
    "    # update local customer_df\n",
    "    config_df = my_db.get_table('Konfiguration')"
   ]
  }
 ],
 "metadata": {
  "kernelspec": {
   "display_name": "Python 3",
   "language": "python",
   "name": "python3"
  },
  "language_info": {
   "codemirror_mode": {
    "name": "ipython",
    "version": 3
   },
   "file_extension": ".py",
   "mimetype": "text/x-python",
   "name": "python",
   "nbconvert_exporter": "python",
   "pygments_lexer": "ipython3",
   "version": "3.7.6"
  }
 },
 "nbformat": 4,
 "nbformat_minor": 4
}
