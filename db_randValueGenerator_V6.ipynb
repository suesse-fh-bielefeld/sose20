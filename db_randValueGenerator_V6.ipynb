{
 "cells": [
  {
   "cell_type": "markdown",
   "metadata": {},
   "source": [
    "### Nutzung der Helper-Klasse"
   ]
  },
  {
   "cell_type": "code",
   "execution_count": 1,
   "metadata": {},
   "outputs": [],
   "source": [
    "from db_communication import db_communication\n",
    "import pandas as pd\n",
    "import numpy as np"
   ]
  },
  {
   "cell_type": "code",
   "execution_count": 2,
   "metadata": {},
   "outputs": [
    {
     "name": "stdout",
     "output_type": "stream",
     "text": [
      "Successfully connected.\n"
     ]
    }
   ],
   "source": [
    "config = {\n",
    "    'user': 'root',\n",
    "    'password': 'FDS-apm1',\n",
    "    'host': 'min-ifm-xdm.ad.fh-bielefeld.de',\n",
    "    'port': '3306',\n",
    "    'database': 'NeueDB' \n",
    "}\n",
    "my_db = db_communication(config)"
   ]
  },
  {
   "cell_type": "code",
   "execution_count": 3,
   "metadata": {
    "scrolled": true
   },
   "outputs": [
    {
     "data": {
      "text/plain": [
       "['Auftrag',\n",
       " 'Einzelteil',\n",
       " 'Konfiguration',\n",
       " 'Kunde',\n",
       " 'Merkmalcluster',\n",
       " 'Merkmale',\n",
       " 'Stuecklistenteil']"
      ]
     },
     "execution_count": 3,
     "metadata": {},
     "output_type": "execute_result"
    }
   ],
   "source": [
    "tables = my_db.read_tables()\n",
    "tables = [tables[i][0] for i in range(len(tables))]\n",
    "tables"
   ]
  },
  {
   "cell_type": "markdown",
   "metadata": {},
   "source": [
    "### Funktionen zur Ermittlung zufälliger Attribute"
   ]
  },
  {
   "cell_type": "code",
   "execution_count": 4,
   "metadata": {},
   "outputs": [],
   "source": [
    "import random\n",
    "def randomElementInList(values):\n",
    "    \"\"\"\n",
    "    Auswahl eines zufälligen Elements aus dem Wertebereich values\n",
    "    Bsp.: ['Basic','Holland','BMX','Klassisch','Einrad'] ->  return = 'BMX'\n",
    "    \"\"\"\n",
    "    return random.choice(values)"
   ]
  },
  {
   "cell_type": "code",
   "execution_count": 5,
   "metadata": {},
   "outputs": [
    {
     "data": {
      "text/plain": [
       "'Einrad'"
      ]
     },
     "execution_count": 5,
     "metadata": {},
     "output_type": "execute_result"
    }
   ],
   "source": [
    "randomElementInList(['Basic','Holland','BMX','Klassisch','Einrad'])"
   ]
  },
  {
   "cell_type": "code",
   "execution_count": 6,
   "metadata": {},
   "outputs": [],
   "source": [
    "def randomNumber(start,stop=None,step=1):\n",
    "    \"\"\"\n",
    "    Generierung einer zufälligen Zahl nach random.randrange():\n",
    "    Choose a random item from range(start, stop[, step])\n",
    "    \"\"\"\n",
    "    if start != stop:\n",
    "        return random.randrange(start=start,stop=stop,step=step)\n",
    "    else:\n",
    "        return start"
   ]
  },
  {
   "cell_type": "code",
   "execution_count": 7,
   "metadata": {},
   "outputs": [
    {
     "data": {
      "text/plain": [
       "7"
      ]
     },
     "execution_count": 7,
     "metadata": {},
     "output_type": "execute_result"
    }
   ],
   "source": [
    "randomNumber(1,20,1)"
   ]
  },
  {
   "cell_type": "code",
   "execution_count": 8,
   "metadata": {},
   "outputs": [],
   "source": [
    "import time \n",
    "import datetime\n",
    "def randomDate(start, end=datetime.datetime.now().strftime(\"%d.%m.%Y\"), format=\"%d.%m.%Y\", prop=random.random()):\n",
    "    \"\"\"Get a time at a proportion of a range of two formatted times.\n",
    "\n",
    "    start and end should be strings specifying times formated in the\n",
    "    given format (strftime-style), giving an interval [start, end].\n",
    "    prop specifies how a proportion of the interval to be taken after\n",
    "    start.  The returned time will be in the specified format.\n",
    "    \"\"\"\n",
    "\n",
    "    stime = time.mktime(time.strptime(start, format))\n",
    "    etime = time.mktime(time.strptime(end, format))\n",
    "\n",
    "    ptime = stime + prop * (etime - stime)\n",
    "\n",
    "    return time.strftime(format, time.localtime(ptime))"
   ]
  },
  {
   "cell_type": "code",
   "execution_count": 9,
   "metadata": {},
   "outputs": [
    {
     "data": {
      "text/plain": [
       "'18.01.2022'"
      ]
     },
     "execution_count": 9,
     "metadata": {},
     "output_type": "execute_result"
    }
   ],
   "source": [
    "randomDate(\"12.10.2020\",\"12.10.2022\",\"%d.%m.%Y\",random.random())"
   ]
  },
  {
   "cell_type": "code",
   "execution_count": 10,
   "metadata": {},
   "outputs": [],
   "source": [
    "def randomName():\n",
    "    preNames = [\"Tana\",\"Francoise\",\"Emmie\",\"Stuart\",\"Cedrick\",\"Tiffani\",\"Kym\",\"Woodrow\",\"Jolene\",\"Autumn\",\"Moriah\",\"Claud\",\"Antoinette\",\n",
    "                \"Gisele\",\"Chrissy\",\"Ellena\",\"Hilton\",\"Susanne\",\"Lindy\",\"Nakesha\",\"Rebecca\",\"Lavenia\",\"Donya\",\"Claudia\",\"Dreama\",\"Alla\",\n",
    "                \"Freeman\",\"Weston\",\"Jacki\",\"Helene\"]\n",
    "    lastName = [\"Allinder\",\"Longley\",\"Dobyns\",\"Coldiron\",\"Justin\",\"Munroe\",\"Boll\",\"Clingerman\",\"Pries\",\"Santangelo\",\"Miller\",\"Bohman\",\"Meachum\",\n",
    "                \"Kamer\",\"Waits\",\"Polin\",\"Suitt\",\"Saulter\",\"Pelt\",\"Dapolito\",\"Guild\",\"Beeks\",\"Hollingshead\",\"Schissler\",\"Cardamone\",\"Sypher\",\n",
    "                \"Fannin\",\"Belizaire\",\"Burleigh\",\"Eslinger\"]\n",
    "    return randomElementInList(preNames), randomElementInList(lastName)"
   ]
  },
  {
   "cell_type": "code",
   "execution_count": 11,
   "metadata": {},
   "outputs": [
    {
     "data": {
      "text/plain": [
       "('Jacki', 'Pries')"
      ]
     },
     "execution_count": 11,
     "metadata": {},
     "output_type": "execute_result"
    }
   ],
   "source": [
    "randomName()"
   ]
  },
  {
   "cell_type": "code",
   "execution_count": 12,
   "metadata": {},
   "outputs": [],
   "source": [
    "def randomMail(preName,lastName):\n",
    "    providers = ['gmail.com','web.de','telekom.de','apple.com','fh-bielefeld.de']\n",
    "    mail = \"{0}.{1}@{2}\".format(preName.lower(),lastName.lower(),randomElementInList(providers).lower())\n",
    "    return mail"
   ]
  },
  {
   "cell_type": "code",
   "execution_count": 13,
   "metadata": {},
   "outputs": [
    {
     "data": {
      "text/plain": [
       "'donya.burleigh@gmail.com'"
      ]
     },
     "execution_count": 13,
     "metadata": {},
     "output_type": "execute_result"
    }
   ],
   "source": [
    "randomMail(*randomName())"
   ]
  },
  {
   "cell_type": "code",
   "execution_count": 14,
   "metadata": {},
   "outputs": [],
   "source": [
    "def randomBike(featureTableName='Merkmale',featureClusterTableName='Merkmalcluster'):\n",
    "    \"\"\"\n",
    "    Generierung eines zufälligen Fahrrad auf Basis der Inhalte aus den Tabellen:\n",
    "    - featureCluster (Bestandteile eines Fahrrads: Rahmen, Gabel, etc.)\n",
    "    - feature        (Wie diese Bestandteile umgesetzt werden: Trofeo 5, Carbon Öldruckstoßdämpfer, etc.)\n",
    "    Und Bestimmung des Gesamtpreises anhand gewählter Merkmale\n",
    "    \"\"\"\n",
    "    # get information about the parts to build a bike from DB\n",
    "    df_features = my_db.get_table(featureTableName)\n",
    "    df_featureCluster = my_db.get_table(featureClusterTableName)\n",
    "    df_featureCluster.set_index('ClusterNr',inplace=True)\n",
    "    \n",
    "    # merge both dfs\n",
    "    arrays = [df_features['Merkmalcluster'].replace(df_featureCluster.to_dict()['Merkmalsbezeichnung']).values, \n",
    "              df_features['MerkmalNr'].values]\n",
    "    tuples = list(zip(*arrays))\n",
    "    index = pd.MultiIndex.from_tuples(tuples, names=['Merkmalcluster', 'MerkmalNr'])\n",
    "    df = df_features.set_index(index)\n",
    "    \n",
    "    # build bike\n",
    "    bike = []\n",
    "    bikePrice = 0\n",
    "    for cluster in df['Merkmalcluster'].unique():\n",
    "        # get set of Merkmale\n",
    "        setMerkmale = df.query(\"Merkmalcluster == \" + str(cluster))['MerkmalNr'].values    \n",
    "        # ignoe 'no ...' part (marked with MerkmalNr : 'xxx99999')\n",
    "        unvalidClusters = [element for element in setMerkmale.astype(str) if '99999' in element]\n",
    "        setMerkmale = setMerkmale[setMerkmale.astype(str) != unvalidClusters]\n",
    "        # select random bike part\n",
    "        bikePart = randomElementInList(setMerkmale)\n",
    "        # get price of this part\n",
    "        pricePart = df.swaplevel().loc[int(bikePart)]['Preis'].astype(float).iloc[0]\n",
    "        # sum it up to get the total bike price\n",
    "        bikePrice += pricePart\n",
    "        bike.append(bikePart)\n",
    "    return bike, bikePrice"
   ]
  },
  {
   "cell_type": "code",
   "execution_count": 15,
   "metadata": {},
   "outputs": [
    {
     "data": {
      "text/plain": [
       "([100001,\n",
       "  200002,\n",
       "  300006,\n",
       "  400003,\n",
       "  500004,\n",
       "  600002,\n",
       "  700003,\n",
       "  800002,\n",
       "  900001,\n",
       "  1000004],\n",
       " 1013.96)"
      ]
     },
     "execution_count": 15,
     "metadata": {},
     "output_type": "execute_result"
    }
   ],
   "source": [
    "randomBike()"
   ]
  },
  {
   "cell_type": "markdown",
   "metadata": {},
   "source": [
    "## Fill data"
   ]
  },
  {
   "cell_type": "markdown",
   "metadata": {},
   "source": [
    "### Kundendaten\n",
    "Im ersten Schritt ist es erforderliche einen Kundendatenstamm anzulegen, welcher unabhängig befüllt werden kann und auf den weitere Bestellungen bzw. Konfigurationen zugreifen können."
   ]
  },
  {
   "cell_type": "code",
   "execution_count": 16,
   "metadata": {},
   "outputs": [],
   "source": [
    "def fillCustomerTable(n,columnNamesDB=['Name','Vorname','Mail'],includeID=True):\n",
    "    \"\"\"\n",
    "    Hinzufügen von zufällig generierten Einträgen in der DB-Tabelle 'Kunde'\n",
    "    \n",
    "    n - Anzahl der Einträge die hinzugefügt werden sollen\n",
    "    columnNamesDB - Spaltennamen der Kunden-Tabelle in der DB (mit Ausnahme der KundenNr; Reihenfolge beachten!) \n",
    "    includeID - Ob KundenNr seperat mit angelegt werden soll\n",
    "    \n",
    "    Es werden die Inhalte nach den defaults in den Parametern erzeugt!\n",
    "    Das Ändern der Reihenfolge der Spalten und die Hinzunahme weiterer Spalten muss im Quellcode angepasst werden!\n",
    "    \"\"\"\n",
    "    # Kundentabelle füllen\n",
    "    table_name = 'Kunde'\n",
    "    customerId = 'KundenNr'\n",
    "    if includeID:\n",
    "        customer_keys = np.concatenate(([customerId],columnNamesDB)) \n",
    "    else:\n",
    "        customer_keys = columnNamesDB\n",
    "    for i in range(n):\n",
    "        customer_name = randomName()\n",
    "        customer_values = i+1, customer_name[0], customer_name[1], randomMail(*customer_name)\n",
    "        if includeID:\n",
    "            customer_dict = dict(zip(customer_keys,customer_values))\n",
    "        else:\n",
    "            customer_dict = dict(zip(customer_keys,customer_values[1:]))\n",
    "        my_db.insert_data(table_name,customer_dict)"
   ]
  },
  {
   "cell_type": "code",
   "execution_count": 17,
   "metadata": {},
   "outputs": [
    {
     "name": "stdout",
     "output_type": "stream",
     "text": [
      "INSERT INTO `Kunde` (`Name`, `Vorname`, `Mail`) VALUES ('Gisele', 'Justin', 'gisele.justin@telekom.de');\n"
     ]
    }
   ],
   "source": [
    "fillCustomerTable(1,includeID=False)"
   ]
  },
  {
   "cell_type": "markdown",
   "metadata": {},
   "source": [
    "### Konfiguraton\n",
    "Im zweiten Schritt werden zufällige Konfigurationen von Fahrrädern erstellt, die einer Auftragsnummer hinzugefügt werden und dessen Gesamtpreis berechnet wird. Erst werden die Daten aufgrund der gegenseitigen Abhängigkeit bestimmt und anschließend wird die DB hiermit befüllt."
   ]
  },
  {
   "cell_type": "code",
   "execution_count": 18,
   "metadata": {},
   "outputs": [],
   "source": [
    "def generateConfigurationData(n,columnNamesDB=['AuftragNr','MerkmalNr'],\n",
    "                              tableName_Order='Auftrag',tableName_Config='Konfiguration',\n",
    "                              configId_name = 'KonfigNr',includeID=True):\n",
    "    \"\"\"\n",
    "    Aufgrund der Abhängigkeiten der Tabellen 'Auftrag' und 'Konfiguration' mit den Spalten 'Gesamtpreis' <-> 'AuftragNr', \n",
    "    wird in dieser Funktion der Output für die Konfiguration inkl. Informationen für den Auftragfür ein späteres Einfügen \n",
    "    in die DB erzeugt.\n",
    "    \n",
    "    n - Anzahl der Einträge die hinzugefügt werden sollen\n",
    "    columnNamesDB - Spaltennamen der Kunden-Tabelle in der DB (mit Ausnahme der KundenNr; Reihenfolge beachten!) \n",
    "    tableName_Order - Name der Tabelle für die Aufträge\n",
    "    tableName_Config - Name der Tabelle für die Konfiguration\n",
    "    configId_name - Name des PrimaryKeys der Konfiguration-Tabelle\n",
    "    includeID - Ob KonfigNr seperat mit angelegt werden soll\n",
    "    \"\"\"\n",
    "    # create keys\n",
    "    if includeID:\n",
    "        config_keys = np.concatenate(([configId_name],columnNamesDB)) \n",
    "    else:\n",
    "        config_keys = columnNamesDB\n",
    "\n",
    "    # get old entries in order to appending new ones\n",
    "    df_before = my_db.get_table(tableName_Order)\n",
    "    if df_before is None:\n",
    "        start = 1\n",
    "    else:\n",
    "        start = df_before.iloc[:,0].max() + 1 #max orderId + 1\n",
    "    n += start\n",
    "\n",
    "    order = []\n",
    "    config_dict = []\n",
    "    # iterate through all orders that should be created\n",
    "    for orderId in range(start,n):\n",
    "        # build random bike\n",
    "        bike,bikePrice = randomBike()\n",
    "        # keep orderId and bikePrice for later order fillings\n",
    "        order.append(dict(zip(('orderId','bikePrice'),(orderId,bikePrice))))\n",
    "        # iterate through each bike part\n",
    "        for partId, featureId in enumerate(bike):\n",
    "            # generate values\n",
    "            config_values = orderId*100+partId, orderId, featureId\n",
    "            # keep the config_dict for later inserts \n",
    "            if includeID:\n",
    "                config_dict.append(dict(zip(config_keys,config_values)))\n",
    "            else:\n",
    "                config_dict.append(dict(zip(config_keys,config_values[1:])))\n",
    "    # to data frame          \n",
    "    df_order = pd.DataFrame(order)\n",
    "    return config_dict, df_order "
   ]
  },
  {
   "cell_type": "code",
   "execution_count": 20,
   "metadata": {},
   "outputs": [],
   "source": [
    "def generateOrderData(df_order,columnNamesDB=['Bestelldatum','Lieferdatum','KundenNr','Gesamtpreis'],\n",
    "                      table_name='Auftrag',orderId_name='AuftrNr', includeID=True, \n",
    "                      customerTableName='Kunde',customerId='KundenNr',startDate='2020-01-01'):\n",
    "    \"\"\"\n",
    "    Erstellen von zufälligen Auftragsinhalten in Abhängigkeit zuvor erstellter Konfigurationen\n",
    "    \n",
    "    df_order - DataFrames welches von dem Konfigurator zur Anlegung eines Auftrags und zur Bestimmung des Gesamtpreises verwendet wird\n",
    "    columnNamesDB - Spaltennamen der Auftrag-Tabelle in der DB (mit Ausnahme der AuftrNr; Reihenfolge beachten!) \n",
    "    table_name - Name der Tabelle für die Aufträge\n",
    "    configId_name - Name des PrimaryKeys der Auftrag-Tabelle\n",
    "    includeID - Ob AuftrNr seperat mit angelegt werden soll\n",
    "    customerTableName - Name der DB-Tabelle 'Kunde'\n",
    "    customerId - Name der Identifikationsnummer in customerTable\n",
    "    startDate - Startdatum zur zufälligen Erzeugung\n",
    "    \n",
    "    Es werden die Inhalte nach den defaults in den Parametern erzeugt!\n",
    "    Das Ändern der Reihenfolge der Spalten und die Hinzunahme weiterer Spalten muss im Quellcode angepasst werden!\n",
    "    \"\"\"\n",
    "    # Read relevant range of values for existing customers\n",
    "    df_customers = my_db.get_table(customerTableName)\n",
    "    \n",
    "    # create keys\n",
    "    if includeID:\n",
    "        order_keys = np.concatenate(([orderId_name],columnNamesDB)) \n",
    "    else:\n",
    "        order_keys = columnNamesDB\n",
    "        \n",
    "    # create values and fill order_dict_lst\n",
    "    order_dict = []\n",
    "    for _,order in df_order.iterrows():\n",
    "        orderId = order[0].astype(int)\n",
    "        orderPrice = order[1].astype(float)\n",
    "        \n",
    "        rand_orderDate = randomDate(start=startDate,\n",
    "                                    end=datetime.datetime.now().strftime(\"%Y-%m-%d\"),\n",
    "                                    format=\"%Y-%m-%d\",\n",
    "                                    prop=random.random())\n",
    "        rand_delivDate = datetime.datetime.strftime(datetime.datetime.strptime(rand_orderDate,\"%Y-%m-%d\") \n",
    "                                                    + datetime.timedelta(days=14),\"%Y-%m-%d\")\n",
    "        rand_customerId = randomNumber(start=df_customers[customerId].astype(int).min(),\n",
    "                                        stop=df_customers[customerId].astype(int).max())\n",
    "        order_values = orderId, rand_orderDate, rand_delivDate, rand_customerId, orderPrice\n",
    "        if includeID:\n",
    "            order_dict.append(dict(zip(order_keys,order_values)))\n",
    "        else:\n",
    "            order_dict.append(dict(zip(order_keys,order_values[1:])))\n",
    "    return order_dict"
   ]
  },
  {
   "cell_type": "code",
   "execution_count": 21,
   "metadata": {},
   "outputs": [],
   "source": [
    "def fillConfigAndOrderTable(n,tableName_Order='Auftrag',tableName_Config='Konfiguration'):\n",
    "    \"\"\"\n",
    "    Tatsächliches Befüllen der beiden Tabellen 'Auftrag' und 'Konfiguration'\n",
    "    Entspricht der Simulation eines (oder mehreren) Kunden, die sich ein Fahrrad in einem Online-Konfigurator zusammenstellen \n",
    "    lassen und bestellen, wodurch ein Auftrag angelegt wird \n",
    "    \n",
    "    n - Anzahl der zu erstellenden Aufträge inkl. Konfigurationen\n",
    "    \"\"\"\n",
    "    config_dict, df_order = generateConfigurationData(n)\n",
    "    order_dict = generateOrderData(df_order)\n",
    "    for order_dict_part in order_dict:\n",
    "        my_db.insert_data(tableName_Order,order_dict_part)\n",
    "    for config_dict_part in config_dict:\n",
    "        my_db.insert_data(tableName_Config,config_dict_part)"
   ]
  },
  {
   "cell_type": "code",
   "execution_count": 23,
   "metadata": {},
   "outputs": [
    {
     "name": "stdout",
     "output_type": "stream",
     "text": [
      "INSERT INTO `Auftrag` (`AuftrNr`, `Bestelldatum`, `Lieferdatum`, `KundenNr`, `Gesamtpreis`) VALUES ('3', '2020-01-10', '2020-01-24', '9', '974.96');\n",
      "INSERT INTO `Auftrag` (`AuftrNr`, `Bestelldatum`, `Lieferdatum`, `KundenNr`, `Gesamtpreis`) VALUES ('4', '2020-04-02', '2020-04-16', '1', '1204.95');\n",
      "INSERT INTO `Konfiguration` (`KonfigNr`, `AuftragNr`, `MerkmalNr`) VALUES ('300', '3', '100001');\n",
      "INSERT INTO `Konfiguration` (`KonfigNr`, `AuftragNr`, `MerkmalNr`) VALUES ('301', '3', '200002');\n",
      "INSERT INTO `Konfiguration` (`KonfigNr`, `AuftragNr`, `MerkmalNr`) VALUES ('302', '3', '300001');\n",
      "INSERT INTO `Konfiguration` (`KonfigNr`, `AuftragNr`, `MerkmalNr`) VALUES ('303', '3', '400003');\n",
      "INSERT INTO `Konfiguration` (`KonfigNr`, `AuftragNr`, `MerkmalNr`) VALUES ('304', '3', '500003');\n",
      "INSERT INTO `Konfiguration` (`KonfigNr`, `AuftragNr`, `MerkmalNr`) VALUES ('305', '3', '600003');\n",
      "INSERT INTO `Konfiguration` (`KonfigNr`, `AuftragNr`, `MerkmalNr`) VALUES ('306', '3', '700002');\n",
      "INSERT INTO `Konfiguration` (`KonfigNr`, `AuftragNr`, `MerkmalNr`) VALUES ('307', '3', '800001');\n",
      "INSERT INTO `Konfiguration` (`KonfigNr`, `AuftragNr`, `MerkmalNr`) VALUES ('308', '3', '900001');\n",
      "INSERT INTO `Konfiguration` (`KonfigNr`, `AuftragNr`, `MerkmalNr`) VALUES ('309', '3', '1000002');\n",
      "INSERT INTO `Konfiguration` (`KonfigNr`, `AuftragNr`, `MerkmalNr`) VALUES ('400', '4', '100002');\n",
      "INSERT INTO `Konfiguration` (`KonfigNr`, `AuftragNr`, `MerkmalNr`) VALUES ('401', '4', '200002');\n",
      "INSERT INTO `Konfiguration` (`KonfigNr`, `AuftragNr`, `MerkmalNr`) VALUES ('402', '4', '300003');\n",
      "INSERT INTO `Konfiguration` (`KonfigNr`, `AuftragNr`, `MerkmalNr`) VALUES ('403', '4', '400001');\n",
      "INSERT INTO `Konfiguration` (`KonfigNr`, `AuftragNr`, `MerkmalNr`) VALUES ('404', '4', '500003');\n",
      "INSERT INTO `Konfiguration` (`KonfigNr`, `AuftragNr`, `MerkmalNr`) VALUES ('405', '4', '600003');\n",
      "INSERT INTO `Konfiguration` (`KonfigNr`, `AuftragNr`, `MerkmalNr`) VALUES ('406', '4', '700003');\n",
      "INSERT INTO `Konfiguration` (`KonfigNr`, `AuftragNr`, `MerkmalNr`) VALUES ('407', '4', '800001');\n",
      "INSERT INTO `Konfiguration` (`KonfigNr`, `AuftragNr`, `MerkmalNr`) VALUES ('408', '4', '900001');\n",
      "INSERT INTO `Konfiguration` (`KonfigNr`, `AuftragNr`, `MerkmalNr`) VALUES ('409', '4', '1000003');\n"
     ]
    }
   ],
   "source": [
    "fillConfigAndOrderTable(2)"
   ]
  },
  {
   "cell_type": "code",
   "execution_count": null,
   "metadata": {},
   "outputs": [],
   "source": []
  }
 ],
 "metadata": {
  "kernelspec": {
   "display_name": "Python 3",
   "language": "python",
   "name": "python3"
  },
  "language_info": {
   "codemirror_mode": {
    "name": "ipython",
    "version": 3
   },
   "file_extension": ".py",
   "mimetype": "text/x-python",
   "name": "python",
   "nbconvert_exporter": "python",
   "pygments_lexer": "ipython3",
   "version": "3.7.6"
  }
 },
 "nbformat": 4,
 "nbformat_minor": 4
}
